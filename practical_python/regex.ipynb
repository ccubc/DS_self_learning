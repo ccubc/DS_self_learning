{
 "cells": [
  {
   "cell_type": "markdown",
   "metadata": {},
   "source": [
    "My study notes of python regex from Hackerrank"
   ]
  },
  {
   "cell_type": "code",
   "execution_count": 10,
   "metadata": {},
   "outputs": [],
   "source": [
    "import re"
   ]
  },
  {
   "cell_type": "markdown",
   "metadata": {},
   "source": [
    "* . matches anything except for a new line"
   ]
  },
  {
   "cell_type": "code",
   "execution_count": 35,
   "metadata": {
    "scrolled": true
   },
   "outputs": [
    {
     "name": "stdout",
     "output_type": "stream",
     "text": [
      "['A+B=']\n",
      "['123.456.789.']\n"
     ]
    }
   ],
   "source": [
    "txt = 'A+B=C'\n",
    "print(re.findall('A.B.', txt))\n",
    "txt = '123.456.789.'\n",
    "print(re.findall('...\\....\\....\\.', txt))"
   ]
  },
  {
   "cell_type": "markdown",
   "metadata": {},
   "source": [
    "* \\d    matches any digit [0-9] \n",
    "* \\D    matches any character that is not a digit"
   ]
  },
  {
   "cell_type": "code",
   "execution_count": 8,
   "metadata": {},
   "outputs": [
    {
     "name": "stdout",
     "output_type": "stream",
     "text": [
      "['11.12b1111']\n"
     ]
    }
   ],
   "source": [
    "txt = '11.12b1111fffb,d=f12t'\n",
    "print(re.findall('\\d\\d\\D\\d\\d\\D\\d\\d\\d\\d', txt))"
   ]
  },
  {
   "cell_type": "markdown",
   "metadata": {},
   "source": [
    "* \\s matches any whitespace character [\\r\\n\\t\\f] \n",
    "* \\S matches any non-white space character"
   ]
  },
  {
   "cell_type": "code",
   "execution_count": 16,
   "metadata": {},
   "outputs": [
    {
     "name": "stdout",
     "output_type": "stream",
     "text": [
      "['12 11 15']\n"
     ]
    }
   ],
   "source": [
    "txt = '12 11 15 ffsss'\n",
    "print(re.findall('\\S\\S\\s\\S\\S\\s\\S\\S', txt))"
   ]
  },
  {
   "cell_type": "markdown",
   "metadata": {},
   "source": [
    "* \\w matches any word character, include a-z, A-z, and 0-9, and underscores(_)\n",
    "* \\W matches any non-word character"
   ]
  },
  {
   "cell_type": "code",
   "execution_count": 19,
   "metadata": {},
   "outputs": [
    {
     "name": "stdout",
     "output_type": "stream",
     "text": [
      "['lei13579@gmail.com']\n"
     ]
    }
   ],
   "source": [
    "txt = 'lei13579@gmail.com'\n",
    "print(re.findall('\\w\\w\\w\\w\\w\\w\\w\\w@gmail.com', txt))"
   ]
  },
  {
   "cell_type": "markdown",
   "metadata": {},
   "source": [
    "* ^ symbol matches the position at the start of a string. \n",
    "* $ symbol matches the position at the end of a string."
   ]
  },
  {
   "cell_type": "code",
   "execution_count": 24,
   "metadata": {},
   "outputs": [
    {
     "name": "stdout",
     "output_type": "stream",
     "text": [
      "['123']\n",
      "['124']\n"
     ]
    }
   ],
   "source": [
    "txt = '1235124'\n",
    "print(re.findall('^123', txt))\n",
    "print(re.findall('124$', txt))"
   ]
  },
  {
   "cell_type": "markdown",
   "metadata": {},
   "source": [
    "* [] matches only one out of several characters placed inside the square barckets."
   ]
  },
  {
   "cell_type": "code",
   "execution_count": 25,
   "metadata": {},
   "outputs": [
    {
     "name": "stdout",
     "output_type": "stream",
     "text": [
      "['a is a vowel']\n"
     ]
    }
   ],
   "source": [
    "txt = 'a is a vowel'\n",
    "print(re.findall('[aeiou] is a vowel', txt))"
   ]
  },
  {
   "cell_type": "markdown",
   "metadata": {},
   "source": [
    "* [^] matches any character that is not in the square brackets"
   ]
  },
  {
   "cell_type": "code",
   "execution_count": 31,
   "metadata": {},
   "outputs": [
    {
     "name": "stdout",
     "output_type": "stream",
     "text": [
      "['k is not a vowel']\n"
     ]
    }
   ],
   "source": [
    "txt = 'k is not a vowel'\n",
    "print(re.findall('^[^aeiou] is not a vowel$', txt))"
   ]
  },
  {
   "cell_type": "markdown",
   "metadata": {},
   "source": [
    "* [a-z], [A-Z], [0-9] represent for any lower case letter, any upper case letter, any digit respectively."
   ]
  },
  {
   "cell_type": "code",
   "execution_count": 33,
   "metadata": {},
   "outputs": [
    {
     "name": "stdout",
     "output_type": "stream",
     "text": [
      "['V6T']\n",
      "['6T1']\n"
     ]
    }
   ],
   "source": [
    "txt = 'V6T1Z2'\n",
    "print(re.findall('[A-Z][0-9][A-Z]', txt))\n",
    "print(re.findall('[^A-Z][^0-9][^A-Z]', txt))"
   ]
  },
  {
   "cell_type": "markdown",
   "metadata": {},
   "source": [
    "* {x} will match exactly x repetitions of character/character class/groups <br>\n",
    "For Example:<br>\n",
    "\n",
    "* w{3} : It will match the character w exactly 3 times.\n",
    "* [xyz]{5} : It will match the string of length 5 consisting of characters {x, y, z}. For example it will match xxxxx, xxxyy and xyxyz.\n",
    "* \\d{4} : It will match any digit exactly 4 times."
   ]
  },
  {
   "cell_type": "code",
   "execution_count": 36,
   "metadata": {},
   "outputs": [
    {
     "name": "stdout",
     "output_type": "stream",
     "text": [
      "['H_ck']\n",
      "['aB2cD4eF6g 1 3 5']\n"
     ]
    }
   ],
   "source": [
    "txt = 'H_ck'\n",
    "print(re.findall('\\w{4}', txt))\n",
    "txt = 'aB2cD4eF6g 1 3 5'\n",
    "print(re.findall('[a-z,A-Z,24680]{10}[13579,\\s]{6}', txt))"
   ]
  },
  {
   "cell_type": "markdown",
   "metadata": {},
   "source": [
    "* {x,y} will match between x and y (both inclusive) repetitions of character/character class/group.\n",
    "* If omit y (or x), then it means more than x (or less than y) repetitions."
   ]
  },
  {
   "cell_type": "code",
   "execution_count": 38,
   "metadata": {},
   "outputs": [
    {
     "name": "stdout",
     "output_type": "stream",
     "text": [
      "['Hk1352513523632']\n"
     ]
    }
   ],
   "source": [
    "txt = 'Hk1352513523632'\n",
    "print(re.findall('\\w{1,4}\\d{4,}', txt))"
   ]
  },
  {
   "cell_type": "markdown",
   "metadata": {},
   "source": [
    "* \\* will match zero or more repetitions of character/character class/group, e.g. \\d\\* will match any digit 0 or more times"
   ]
  },
  {
   "cell_type": "code",
   "execution_count": 40,
   "metadata": {},
   "outputs": [
    {
     "name": "stdout",
     "output_type": "stream",
     "text": [
      "['12aaaawwWW']\n"
     ]
    }
   ],
   "source": [
    "txt = '12aaaawwWW'\n",
    "print(re.findall('^\\d{2,}[a-z]*[A-Z]*$', txt))"
   ]
  },
  {
   "cell_type": "markdown",
   "metadata": {},
   "source": [
    "* \\+ will match one or more repetitions of character/character class/group"
   ]
  },
  {
   "cell_type": "code",
   "execution_count": 41,
   "metadata": {},
   "outputs": [
    {
     "name": "stdout",
     "output_type": "stream",
     "text": [
      "['1Qa']\n"
     ]
    }
   ],
   "source": [
    "txt = '1Qa'\n",
    "print(re.findall('^\\d+[A-Z]+[a-z]+$', txt))"
   ]
  }
 ],
 "metadata": {
  "kernelspec": {
   "display_name": "Python 3",
   "language": "python",
   "name": "python3"
  },
  "language_info": {
   "codemirror_mode": {
    "name": "ipython",
    "version": 3
   },
   "file_extension": ".py",
   "mimetype": "text/x-python",
   "name": "python",
   "nbconvert_exporter": "python",
   "pygments_lexer": "ipython3",
   "version": "3.6.9"
  }
 },
 "nbformat": 4,
 "nbformat_minor": 2
}
