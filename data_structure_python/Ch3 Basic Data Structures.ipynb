{
 "cells": [
  {
   "cell_type": "markdown",
   "metadata": {},
   "source": [
    "http://interactivepython.org/runestone/static/pythonds/BasicDS/toctree.html\n",
    "\n",
    "### Stack (last in first out)"
   ]
  },
  {
   "cell_type": "code",
   "execution_count": 3,
   "metadata": {
    "collapsed": true
   },
   "outputs": [],
   "source": [
    "class Stack:\n",
    "    def __init__(self):\n",
    "        self.items = []\n",
    "    def isEmpty(self):\n",
    "        return self.items == []\n",
    "    def push(self, item):\n",
    "        self.items.append(item)\n",
    "    def pop(self):\n",
    "        self.items.pop()\n",
    "    def peek(self):\n",
    "        return self.items[len(self.items)-1]\n",
    "    def size(self):\n",
    "        return len(self.items)\n",
    "    \n"
   ]
  },
  {
   "cell_type": "code",
   "execution_count": 4,
   "metadata": {},
   "outputs": [
    {
     "data": {
      "text/plain": [
       "'z'"
      ]
     },
     "execution_count": 4,
     "metadata": {},
     "output_type": "execute_result"
    }
   ],
   "source": [
    "m = Stack()\n",
    "m.push('x')\n",
    "m.push('y')\n",
    "m.pop()\n",
    "m.push('z')\n",
    "m.peek()"
   ]
  },
  {
   "cell_type": "code",
   "execution_count": 10,
   "metadata": {},
   "outputs": [
    {
     "name": "stdout",
     "output_type": "stream",
     "text": [
      "True\n",
      "dog\n",
      "3\n",
      "False\n",
      "8.4\n",
      "True\n",
      "2\n"
     ]
    }
   ],
   "source": [
    "from pythonds.basic.stack import Stack\n",
    "\n",
    "s=Stack()\n",
    "\n",
    "print(s.isEmpty())\n",
    "s.push(4)\n",
    "s.push('dog')\n",
    "print(s.peek())\n",
    "s.push(True)\n",
    "print(s.size())\n",
    "print(s.isEmpty())\n",
    "s.push(8.4)\n",
    "print(s.pop())\n",
    "print(s.pop())\n",
    "print(s.size())\n"
   ]
  },
  {
   "cell_type": "markdown",
   "metadata": {},
   "source": [
    "一个stack的运用：check括号是否balanced"
   ]
  },
  {
   "cell_type": "code",
   "execution_count": 11,
   "metadata": {},
   "outputs": [
    {
     "name": "stdout",
     "output_type": "stream",
     "text": [
      "True\n",
      "False\n"
     ]
    }
   ],
   "source": [
    "from pythonds.basic.stack import Stack\n",
    "\n",
    "def parChecker(symbolString):\n",
    "    s = Stack()\n",
    "    balanced = True\n",
    "    index = 0\n",
    "    while index < len(symbolString) and balanced:\n",
    "        symbol = symbolString[index]\n",
    "        if symbol in \"([{\":\n",
    "            s.push(symbol)\n",
    "        else:\n",
    "            if s.isEmpty():\n",
    "                balanced = False\n",
    "            else:\n",
    "                top = s.pop()\n",
    "                if not matches(top,symbol):\n",
    "                       balanced = False\n",
    "        index = index + 1\n",
    "    if balanced and s.isEmpty():\n",
    "        return True\n",
    "    else:\n",
    "        return False\n",
    "\n",
    "def matches(open,close):\n",
    "    opens = \"([{\"\n",
    "    closers = \")]}\"\n",
    "    return opens.index(open) == closers.index(close)\n",
    "\n",
    "\n",
    "print(parChecker('{{([][])}()}'))\n",
    "print(parChecker('[{()]'))\n"
   ]
  },
  {
   "cell_type": "markdown",
   "metadata": {},
   "source": [
    "### convert integer numbers to binary numbers using Stack\n",
    "* divide by 2, push the remainder to stack\n",
    "* use the 整除出来的结果, divide by 2, push the remainder to stack\n",
    "* repeat until 整除结果=0\n",
    "* 得到stack后，把里面的1和0全部pop出来（LIFO），得到的就是二进制数"
   ]
  },
  {
   "cell_type": "code",
   "execution_count": 19,
   "metadata": {},
   "outputs": [
    {
     "name": "stdout",
     "output_type": "stream",
     "text": [
      "101010\n"
     ]
    }
   ],
   "source": [
    "from pythonds.basic.stack import Stack\n",
    "\n",
    "def divideBy2(decNumber):\n",
    "    remstack = Stack()\n",
    "\n",
    "    while decNumber > 0:\n",
    "        rem = decNumber % 2\n",
    "        remstack.push(rem)\n",
    "        decNumber = decNumber // 2\n",
    "\n",
    "    binString = \"\"\n",
    "    while not remstack.isEmpty():\n",
    "        binString = binString + str(remstack.pop())\n",
    "\n",
    "    return binString\n",
    "\n",
    "print(divideBy2(42))\n"
   ]
  },
  {
   "cell_type": "markdown",
   "metadata": {},
   "source": [
    "16进制转换 同理"
   ]
  },
  {
   "cell_type": "code",
   "execution_count": 20,
   "metadata": {},
   "outputs": [
    {
     "name": "stdout",
     "output_type": "stream",
     "text": [
      "11001\n",
      "19\n"
     ]
    }
   ],
   "source": [
    "from pythonds.basic.stack import Stack\n",
    "\n",
    "def baseConverter(decNumber,base):\n",
    "    digits = \"0123456789ABCDEF\"\n",
    "\n",
    "    remstack = Stack()\n",
    "\n",
    "    while decNumber > 0:\n",
    "        rem = decNumber % base\n",
    "        remstack.push(rem)\n",
    "        decNumber = decNumber // base\n",
    "\n",
    "    newString = \"\"\n",
    "    while not remstack.isEmpty():\n",
    "        newString = newString + digits[remstack.pop()]\n",
    "\n",
    "    return newString\n",
    "\n",
    "print(baseConverter(25,2))\n",
    "print(baseConverter(25,16))\n"
   ]
  },
  {
   "cell_type": "code",
   "execution_count": 21,
   "metadata": {},
   "outputs": [
    {
     "name": "stdout",
     "output_type": "stream",
     "text": [
      "100\n"
     ]
    }
   ],
   "source": [
    "print(baseConverter(256,16))\n"
   ]
  },
  {
   "cell_type": "markdown",
   "metadata": {},
   "source": [
    "### infix, prefix, postfix (算式的表达方法， 后两者胜在不需要使用括号)\n",
    "postfix evaluation: push numbers and operands from left to right, into a stack; whenever seeing an operand, pop twice and do the calculation, push back the resulted number; continue pushing the elements, until stack is left with one final result\n"
   ]
  },
  {
   "cell_type": "markdown",
   "metadata": {},
   "source": [
    "### Queue (first in first out)\n",
    "main methods: enqueue(item), dequeue()"
   ]
  },
  {
   "cell_type": "code",
   "execution_count": 25,
   "metadata": {
    "collapsed": true
   },
   "outputs": [],
   "source": [
    "class Queue:\n",
    "    def __init__(self):\n",
    "        self.items = []\n",
    "    def isEmpty(self):\n",
    "        return self.items == []\n",
    "    def enqueue(self, item):\n",
    "        self.items.insert(0, item)\n",
    "    def dequeue(self):\n",
    "        self.items.pop()\n",
    "    def size(self):\n",
    "        return len(self.items)\n",
    "    \n"
   ]
  },
  {
   "cell_type": "code",
   "execution_count": 26,
   "metadata": {},
   "outputs": [
    {
     "data": {
      "text/plain": [
       "2"
      ]
     },
     "execution_count": 26,
     "metadata": {},
     "output_type": "execute_result"
    }
   ],
   "source": [
    "n = Queue()\n",
    "n.enqueue('a')\n",
    "n.enqueue('b')\n",
    "n.enqueue('c')\n",
    "n.dequeue()\n",
    "n.size()"
   ]
  },
  {
   "cell_type": "markdown",
   "metadata": {},
   "source": [
    "circled queue: n.enqueue(n.dequeue()) <br>\n",
    "\n",
    "#### simulation of printing task using Queue\n",
    "* using different classes in simulation \n",
    "* using the data structure of queue"
   ]
  },
  {
   "cell_type": "code",
   "execution_count": 31,
   "metadata": {},
   "outputs": [
    {
     "name": "stdout",
     "output_type": "stream",
     "text": [
      "Average Wait  11.07 secs   0 tasks remaining.\n",
      "Average Wait  28.41 secs   0 tasks remaining.\n",
      "Average Wait  20.41 secs   0 tasks remaining.\n",
      "Average Wait  31.48 secs   0 tasks remaining.\n",
      "Average Wait   5.76 secs   0 tasks remaining.\n",
      "Average Wait   6.33 secs   0 tasks remaining.\n",
      "Average Wait  29.67 secs   0 tasks remaining.\n",
      "Average Wait   7.30 secs   0 tasks remaining.\n",
      "Average Wait  13.60 secs   0 tasks remaining.\n",
      "Average Wait  15.28 secs   0 tasks remaining.\n"
     ]
    }
   ],
   "source": [
    "from pythonds.basic.queue import Queue\n",
    "\n",
    "import random\n",
    "\n",
    "class Printer:\n",
    "    def __init__(self, ppm):\n",
    "        self.pagerate = ppm # page per minute (per 60 seconds)\n",
    "        self.currentTask = None\n",
    "        self.timeRemaining = 0 # time remaining to complete the current task\n",
    "\n",
    "    def tick(self):\n",
    "        if self.currentTask != None:\n",
    "            self.timeRemaining = self.timeRemaining - 1 # counting down 1 second\n",
    "            if self.timeRemaining <= 0: # means the current task is done printing\n",
    "                self.currentTask = None\n",
    "\n",
    "    def busy(self): # the printer is printing some task\n",
    "        if self.currentTask != None:\n",
    "            return True\n",
    "        else:\n",
    "            return False\n",
    "\n",
    "    def startNext(self,newtask):\n",
    "        self.currentTask = newtask\n",
    "        self.timeRemaining = newtask.getPages() * 60/self.pagerate # total seconds needed to print the newtask\n",
    "\n",
    "class Task:\n",
    "    def __init__(self,time):\n",
    "        self.timestamp = time  # time that this task enters the queue\n",
    "        self.pages = random.randrange(1,21) \n",
    "\n",
    "    def getStamp(self):\n",
    "        return self.timestamp\n",
    "\n",
    "    def getPages(self):\n",
    "        return self.pages\n",
    "\n",
    "    def waitTime(self, currenttime):\n",
    "        return currenttime - self.timestamp\n",
    "\n",
    "\n",
    "def simulation(numSeconds, pagesPerMinute):\n",
    "\n",
    "    labprinter = Printer(pagesPerMinute)\n",
    "    printQueue = Queue()\n",
    "    waitingtimes = []\n",
    "\n",
    "    for currentSecond in range(numSeconds):\n",
    "\n",
    "      if newPrintTask():\n",
    "         task = Task(currentSecond)\n",
    "         printQueue.enqueue(task)\n",
    "            # if new task comes, put current time as the timestamp and enqueue this task\n",
    "            \n",
    "      if (not labprinter.busy()) and (not printQueue.isEmpty()):\n",
    "            # if printer is not busy and print queue is not empty \n",
    "        nexttask = printQueue.dequeue() # dequeue and print the task\n",
    "        waitingtimes.append( nexttask.waitTime(currentSecond)) \n",
    "        # waiting time = current time(time when start printing) - enqueue time (time when entered the queue)\n",
    "        labprinter.startNext(nexttask)\n",
    "\n",
    "      labprinter.tick() # tick to the next second\n",
    "\n",
    "    averageWait=sum(waitingtimes)/len(waitingtimes)\n",
    "    print(\"Average Wait %6.2f secs %3d tasks remaining.\"%(averageWait,printQueue.size()))\n",
    "    # tasks remaining: tasks that have not got printed at the end of the period\n",
    "    \n",
    "def newPrintTask():\n",
    "    num = random.randrange(1,181)\n",
    "    if num == 180:\n",
    "        return True\n",
    "    else:\n",
    "        return False\n",
    "\n",
    "for i in range(10):\n",
    "    simulation(3600,10)\n"
   ]
  },
  {
   "cell_type": "markdown",
   "metadata": {},
   "source": [
    "### deque (elements can be added or removed at either end)"
   ]
  },
  {
   "cell_type": "code",
   "execution_count": 32,
   "metadata": {
    "collapsed": true
   },
   "outputs": [],
   "source": [
    "class Deque:\n",
    "    def __init__(self):\n",
    "        self.items = []\n",
    "    def isEmpty(self):\n",
    "        return self.items==[]\n",
    "    def addFront(self, item):\n",
    "        self.items.append(item)\n",
    "    def addRear(self, item):\n",
    "        self.items.insert(0,item)\n",
    "    def removeFront(self):\n",
    "        return self.items.pop()\n",
    "    def removeRear(self):\n",
    "        return self.items.pop(0)\n",
    "    def size(self):\n",
    "        return len(self.items)"
   ]
  },
  {
   "cell_type": "markdown",
   "metadata": {},
   "source": [
    "判断单词是不是“回文”"
   ]
  },
  {
   "cell_type": "code",
   "execution_count": 33,
   "metadata": {},
   "outputs": [
    {
     "name": "stdout",
     "output_type": "stream",
     "text": [
      "False\n",
      "True\n"
     ]
    }
   ],
   "source": [
    "from pythonds.basic.deque import Deque\n",
    "\n",
    "def palchecker(aString):\n",
    "    chardeque = Deque()\n",
    "\n",
    "    for ch in aString:\n",
    "        chardeque.addRear(ch)\n",
    "\n",
    "    stillEqual = True\n",
    "\n",
    "    while chardeque.size() > 1 and stillEqual:\n",
    "        first = chardeque.removeFront()\n",
    "        last = chardeque.removeRear()\n",
    "        if first != last:\n",
    "            stillEqual = False\n",
    "\n",
    "    return stillEqual\n",
    "\n",
    "print(palchecker(\"lsdkjfskf\"))\n",
    "print(palchecker(\"radar\"))\n"
   ]
  },
  {
   "cell_type": "markdown",
   "metadata": {},
   "source": [
    "### unordered list 链表 (building block: Node)\n",
    "If node.next = None 则表示已到list end"
   ]
  },
  {
   "cell_type": "code",
   "execution_count": 34,
   "metadata": {},
   "outputs": [
    {
     "data": {
      "text/plain": [
       "93"
      ]
     },
     "execution_count": 34,
     "metadata": {},
     "output_type": "execute_result"
    }
   ],
   "source": [
    "class Node:\n",
    "    def __init__(self, initdata):\n",
    "        self.data = initdata\n",
    "        self.next = None # grounding the node (if not set next node, then next is None)\n",
    "    def getData(self):\n",
    "        return self.data\n",
    "    def getNext(self):\n",
    "        return self.next\n",
    "    def setData(self, newdata):\n",
    "        self.data = newdata\n",
    "    def setNext(self, newnext):\n",
    "        self.next = newnext\n",
    "        \n",
    "temp = Node(93)\n",
    "temp.getData()"
   ]
  },
  {
   "cell_type": "code",
   "execution_count": 100,
   "metadata": {},
   "outputs": [],
   "source": [
    "class UnorderedList:\n",
    "    def __init__(self):\n",
    "        self.head = None\n",
    "    def isEmpty(self):\n",
    "        return self.head == None\n",
    "    def add(self, item):\n",
    "        temp = Node(item)\n",
    "        temp.setNext(self.head)\n",
    "        self.head = temp\n",
    "        # when adding an item to the list, it is added to the head\n",
    "    def size(self):\n",
    "        current = self.head\n",
    "        count = 0\n",
    "        while current != None:\n",
    "            count = count + 1\n",
    "            current = current.getNext()\n",
    "        return count\n",
    "        # size() method will traverse through the whole list to count items\n",
    "    def search(self, item):\n",
    "        current = self.head\n",
    "        found = False\n",
    "        while current != None and not found:\n",
    "            if current.getData() == item:\n",
    "                found = True\n",
    "            else:\n",
    "                current = current.getNext()\n",
    "        return found\n",
    "        # search(item) returns true if item exists in the list, also requires traversal\n",
    "    def remove(self, item):\n",
    "        current = self.head\n",
    "        previous = None\n",
    "        found = False\n",
    "        while not found:\n",
    "            if current.getData() == item:\n",
    "                found = True\n",
    "            else:\n",
    "                previous = current\n",
    "                current = current.getNext()\n",
    "        if previous == None:\n",
    "            self.head = current.getNext()\n",
    "        else:\n",
    "            previous.setNext(current.getNext())\n",
    "        # remove item assuming that item exists in list\n",
    "    def append(self, item):\n",
    "        # written by CC, O(n)\n",
    "        current = self.head\n",
    "        temp = Node(item)\n",
    "        if current == None:\n",
    "            # empty list\n",
    "            self.head = temp\n",
    "        else:\n",
    "            while current != None:\n",
    "                previous = current\n",
    "                current = current.getNext()\n",
    "            previous.setNext(temp)\n",
    "    def printlist(self):\n",
    "        current = self.head\n",
    "        print('head ')\n",
    "        while current != None:\n",
    "            print(current.getData())\n",
    "            current = current.getNext()\n",
    "        print('rear')\n",
    "    def insert(self, item, pos):\n",
    "        # insert item at index = pos\n",
    "        temp = Node(item)\n",
    "        count = 0\n",
    "        previous = self.head\n",
    "        current = self.head\n",
    "        while count < pos:\n",
    "            previous = current\n",
    "            current = current.getNext()\n",
    "            count += 1\n",
    "        previous.setNext(temp) \n",
    "        temp.setNext(current) \n",
    "    def index(self, item):\n",
    "        count = 0\n",
    "        current = self.head\n",
    "        while current.getData() != item:\n",
    "            current = current.getNext()\n",
    "            count += 1\n",
    "        return count\n",
    "    def pop(self, pos = 0):\n",
    "        if pos == 0:\n",
    "            temp = self.head.getData()\n",
    "            self.head = self.head.getNext()\n",
    "        else:\n",
    "            count = 0\n",
    "            current = self.head\n",
    "            while count < pos:\n",
    "                previous = current\n",
    "                current = current.getNext()\n",
    "                count += 1\n",
    "            temp = current.getData()\n",
    "            previous.setNext(current.getNext())\n",
    "        return temp\n"
   ]
  },
  {
   "cell_type": "code",
   "execution_count": 102,
   "metadata": {},
   "outputs": [
    {
     "name": "stdout",
     "output_type": "stream",
     "text": [
      "True\n",
      "False\n",
      "4\n",
      "3\n",
      "23\n",
      "4\n",
      "head \n",
      "23\n",
      "77\n",
      "31\n",
      "777\n",
      "rear\n",
      "head \n",
      "23\n",
      "77\n",
      "666\n",
      "31\n",
      "777\n",
      "rear\n",
      "2\n",
      "23\n",
      "head \n",
      "77\n",
      "666\n",
      "31\n",
      "777\n",
      "rear\n"
     ]
    }
   ],
   "source": [
    "mylist = UnorderedList()\n",
    "mylist.add(31)\n",
    "mylist.add(77)\n",
    "mylist.add(23)\n",
    "mylist.add(888)\n",
    "mylist.head.getData()\n",
    "print(mylist.search(888))\n",
    "print(mylist.search(8))\n",
    "print(mylist.size())\n",
    "mylist.remove(888)\n",
    "print(mylist.size())\n",
    "print(mylist.head.getData())\n",
    "mylist.append(777)\n",
    "print(mylist.size())\n",
    "mylist.printlist()\n",
    "mylist.insert(666,2)\n",
    "mylist.printlist()\n",
    "print(mylist.index(666))\n",
    "print(mylist.pop())\n",
    "mylist.printlist()"
   ]
  },
  {
   "cell_type": "markdown",
   "metadata": {},
   "source": [
    "* If want to write append (to the end) to be O(1), one can initialize the list with attribute \"end node\", then work with the end node when appending."
   ]
  },
  {
   "cell_type": "code",
   "execution_count": null,
   "metadata": {
    "collapsed": true
   },
   "outputs": [],
   "source": []
  }
 ],
 "metadata": {
  "kernelspec": {
   "display_name": "Python 3",
   "language": "python",
   "name": "python3"
  },
  "language_info": {
   "codemirror_mode": {
    "name": "ipython",
    "version": 3
   },
   "file_extension": ".py",
   "mimetype": "text/x-python",
   "name": "python",
   "nbconvert_exporter": "python",
   "pygments_lexer": "ipython3",
   "version": "3.6.9"
  }
 },
 "nbformat": 4,
 "nbformat_minor": 2
}
