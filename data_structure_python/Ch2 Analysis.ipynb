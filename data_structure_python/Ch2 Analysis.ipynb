{
 "cells": [
  {
   "cell_type": "markdown",
   "metadata": {
    "collapsed": true
   },
   "source": [
    "http://interactivepython.org/runestone/static/pythonds/AlgorithmAnalysis/toctree.html <br>\n",
    "\n",
    "study notes for ch.2 Analysis"
   ]
  },
  {
   "cell_type": "markdown",
   "metadata": {},
   "source": [
    "Compare the codes below: <br>\n",
    "Code 1: <br>\n",
    "time complexity = O(N)"
   ]
  },
  {
   "cell_type": "code",
   "execution_count": 1,
   "metadata": {
    "scrolled": true
   },
   "outputs": [
    {
     "name": "stdout",
     "output_type": "stream",
     "text": [
      "55\n"
     ]
    }
   ],
   "source": [
    "def sumOfN(n):\n",
    "   theSum = 0\n",
    "   for i in range(1,n+1):\n",
    "       theSum = theSum + i\n",
    "   return theSum\n",
    "\n",
    "print(sumOfN(10))\n"
   ]
  },
  {
   "cell_type": "markdown",
   "metadata": {},
   "source": [
    "return both result and time run"
   ]
  },
  {
   "cell_type": "code",
   "execution_count": 2,
   "metadata": {},
   "outputs": [
    {
     "name": "stdout",
     "output_type": "stream",
     "text": [
      "Sum is 50005000 required  0.0006301 seconds\n",
      "Sum is 50005000 required  0.0011139 seconds\n",
      "Sum is 50005000 required  0.0007210 seconds\n",
      "Sum is 50005000 required  0.0006320 seconds\n",
      "Sum is 50005000 required  0.0006320 seconds\n"
     ]
    }
   ],
   "source": [
    "import time\n",
    "\n",
    "def sumOfN2(n):\n",
    "   start = time.time()\n",
    "\n",
    "   theSum = 0\n",
    "   for i in range(1,n+1):\n",
    "      theSum = theSum + i\n",
    "\n",
    "   end = time.time()\n",
    "\n",
    "   return theSum,end-start\n",
    "for i in range(5):\n",
    "    print(\"Sum is %d required %10.7f seconds\"%sumOfN2(10000))"
   ]
  },
  {
   "cell_type": "code",
   "execution_count": 3,
   "metadata": {},
   "outputs": [
    {
     "name": "stdout",
     "output_type": "stream",
     "text": [
      "Sum is 5000050000 required  0.0075879 seconds\n",
      "Sum is 5000050000 required  0.0087390 seconds\n",
      "Sum is 5000050000 required  0.0092201 seconds\n",
      "Sum is 5000050000 required  0.0179839 seconds\n",
      "Sum is 5000050000 required  0.0104337 seconds\n"
     ]
    }
   ],
   "source": [
    "for i in range(5):\n",
    "    print(\"Sum is %d required %10.7f seconds\"%sumOfN2(100000))"
   ]
  },
  {
   "cell_type": "code",
   "execution_count": 4,
   "metadata": {},
   "outputs": [
    {
     "name": "stdout",
     "output_type": "stream",
     "text": [
      "Sum is 500000500000 required  0.0992308 seconds\n",
      "Sum is 500000500000 required  0.0776742 seconds\n",
      "Sum is 500000500000 required  0.0830050 seconds\n",
      "Sum is 500000500000 required  0.0761940 seconds\n",
      "Sum is 500000500000 required  0.1225889 seconds\n"
     ]
    }
   ],
   "source": [
    "for i in range(5):\n",
    "    print(\"Sum is %d required %10.7f seconds\"%sumOfN2(1000000))"
   ]
  },
  {
   "cell_type": "markdown",
   "metadata": {},
   "source": [
    "以上3段code可以看出run time与N大概成正比 => O(N)"
   ]
  },
  {
   "cell_type": "code",
   "execution_count": 5,
   "metadata": {},
   "outputs": [],
   "source": [
    "def sumOfN3(n):\n",
    "    start = time.time()\n",
    "    theSum =  (n*(n+1))/2\n",
    "    end = time.time()\n",
    "    return theSum,end-start\n"
   ]
  },
  {
   "cell_type": "code",
   "execution_count": 6,
   "metadata": {},
   "outputs": [
    {
     "name": "stdout",
     "output_type": "stream",
     "text": [
      "Sum is 50005000 required  0.0000010 seconds\n",
      "Sum is 50005000 required  0.0000019 seconds\n",
      "Sum is 50005000 required  0.0000031 seconds\n",
      "Sum is 50005000 required  0.0000007 seconds\n",
      "Sum is 50005000 required  0.0000010 seconds\n",
      "Sum is 5000050000 required  0.0000010 seconds\n",
      "Sum is 5000050000 required  0.0000031 seconds\n",
      "Sum is 5000050000 required  0.0000021 seconds\n",
      "Sum is 5000050000 required  0.0000021 seconds\n",
      "Sum is 5000050000 required  0.0000010 seconds\n",
      "Sum is 500000500000 required  0.0000010 seconds\n",
      "Sum is 500000500000 required  0.0000012 seconds\n",
      "Sum is 500000500000 required  0.0000000 seconds\n",
      "Sum is 500000500000 required  0.0000012 seconds\n",
      "Sum is 500000500000 required  0.0000031 seconds\n"
     ]
    }
   ],
   "source": [
    "for i in range(5):\n",
    "    print(\"Sum is %d required %10.7f seconds\"%sumOfN3(10000))\n",
    "for i in range(5):\n",
    "    print(\"Sum is %d required %10.7f seconds\"%sumOfN3(100000))\n",
    "for i in range(5):\n",
    "    print(\"Sum is %d required %10.7f seconds\"%sumOfN3(1000000))\n",
    "    "
   ]
  },
  {
   "cell_type": "markdown",
   "metadata": {},
   "source": [
    "time complexity = O(1) "
   ]
  },
  {
   "cell_type": "markdown",
   "metadata": {},
   "source": [
    "### 检查两个字符串是不是由相同的字母们构成的。\n",
    "(1) brute force method, time complexity = O(N^2)"
   ]
  },
  {
   "cell_type": "code",
   "execution_count": 7,
   "metadata": {},
   "outputs": [
    {
     "name": "stdout",
     "output_type": "stream",
     "text": [
      "True\n"
     ]
    }
   ],
   "source": [
    "def anagramSolution1(s1,s2):\n",
    "    alist = list(s2)\n",
    "\n",
    "    pos1 = 0\n",
    "    stillOK = True\n",
    "\n",
    "    while pos1 < len(s1) and stillOK:\n",
    "        pos2 = 0\n",
    "        found = False\n",
    "        while pos2 < len(alist) and not found:\n",
    "            if s1[pos1] == alist[pos2]:\n",
    "                found = True\n",
    "            else:\n",
    "                pos2 = pos2 + 1\n",
    "\n",
    "        if found:\n",
    "            alist[pos2] = None\n",
    "        else:\n",
    "            stillOK = False\n",
    "\n",
    "        pos1 = pos1 + 1\n",
    "\n",
    "    return stillOK\n",
    "\n",
    "print(anagramSolution1('abcd','dcba'))\n"
   ]
  },
  {
   "cell_type": "markdown",
   "metadata": {},
   "source": [
    "先sort再比较，O(NlogN)"
   ]
  },
  {
   "cell_type": "code",
   "execution_count": 8,
   "metadata": {},
   "outputs": [
    {
     "name": "stdout",
     "output_type": "stream",
     "text": [
      "True\n"
     ]
    }
   ],
   "source": [
    "def anagramSolution2(s1,s2):\n",
    "    alist1 = list(s1)\n",
    "    alist2 = list(s2)\n",
    "\n",
    "    alist1.sort()\n",
    "    alist2.sort()\n",
    "\n",
    "    pos = 0\n",
    "    matches = True\n",
    "\n",
    "    while pos < len(s1) and matches:\n",
    "        if alist1[pos]==alist2[pos]:\n",
    "            pos = pos + 1\n",
    "        else:\n",
    "            matches = False\n",
    "\n",
    "    return matches\n",
    "\n",
    "print(anagramSolution2('abcde','edcba'))\n"
   ]
  },
  {
   "cell_type": "markdown",
   "metadata": {},
   "source": [
    "数数26个字母+空格，分别有多少个，再对比：count and compare => O(N) <br>\n",
    "### list 的运算速度"
   ]
  },
  {
   "cell_type": "code",
   "execution_count": 9,
   "metadata": {
    "collapsed": true
   },
   "outputs": [],
   "source": [
    "def test1():\n",
    "    l = []\n",
    "    for i in range(1000):\n",
    "        l = l + [i]\n",
    "# concat: slow, O(k)\n",
    "        \n",
    "def test2():\n",
    "    l = []\n",
    "    for i in range(1000):\n",
    "        l.append(i)\n",
    "# append: faster, O(1)\n",
    "\n",
    "def test3():\n",
    "    l = [i for i in range(1000)]\n",
    "# comprehension: even faster, O(1)\n",
    "    \n",
    "def test4():\n",
    "    l = list(range(1000))\n",
    "# list range: fastest"
   ]
  },
  {
   "cell_type": "code",
   "execution_count": 11,
   "metadata": {},
   "outputs": [
    {
     "data": {
      "text/plain": [
       "['a', 'b', 'c']"
      ]
     },
     "execution_count": 11,
     "metadata": {},
     "output_type": "execute_result"
    }
   ],
   "source": [
    "list_a = list('abcd')\n",
    "list_a.pop()\n",
    "list_a"
   ]
  },
  {
   "cell_type": "code",
   "execution_count": 12,
   "metadata": {},
   "outputs": [
    {
     "data": {
      "text/plain": [
       "['b', 'c']"
      ]
     },
     "execution_count": 12,
     "metadata": {},
     "output_type": "execute_result"
    }
   ],
   "source": [
    "list_a.pop(0)\n",
    "list_a"
   ]
  },
  {
   "cell_type": "markdown",
   "metadata": {},
   "source": [
    "list pop(): O(1) <br>\n",
    "list pop(0): O(N)  (pop out the first element) \n",
    "### (list works like a queue)\n",
    "\n",
    "## Dictionary\n",
    "* get item and set item are O(1) \n",
    "* contains() is O(1)  (list的contain method是O(N))"
   ]
  },
  {
   "cell_type": "code",
   "execution_count": null,
   "metadata": {
    "collapsed": true
   },
   "outputs": [],
   "source": []
  }
 ],
 "metadata": {
  "kernelspec": {
   "display_name": "Python 3",
   "language": "python",
   "name": "python3"
  },
  "language_info": {
   "codemirror_mode": {
    "name": "ipython",
    "version": 3
   },
   "file_extension": ".py",
   "mimetype": "text/x-python",
   "name": "python",
   "nbconvert_exporter": "python",
   "pygments_lexer": "ipython3",
   "version": "3.6.9"
  }
 },
 "nbformat": 4,
 "nbformat_minor": 2
}
