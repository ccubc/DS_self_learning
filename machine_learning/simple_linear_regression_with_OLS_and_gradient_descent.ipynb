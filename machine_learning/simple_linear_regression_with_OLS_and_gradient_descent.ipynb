{
 "cells": [
  {
   "cell_type": "markdown",
   "metadata": {},
   "source": [
    "# Simple linear regression with OLS and gradient descent"
   ]
  },
  {
   "cell_type": "code",
   "execution_count": 1,
   "metadata": {},
   "outputs": [],
   "source": [
    "import pandas as pd\n",
    "import numpy as np\n",
    "import matplotlib.pyplot as plt"
   ]
  },
  {
   "cell_type": "markdown",
   "metadata": {},
   "source": [
    "### 1. generate datapoints for regression\n",
    "True underlying model: Y = 100+20X+$\\epsilon$"
   ]
  },
  {
   "cell_type": "code",
   "execution_count": 21,
   "metadata": {},
   "outputs": [],
   "source": [
    "np.random.seed(0)\n",
    "data_len = 100000\n",
    "X = np.random.uniform(-100, 100, data_len)\n",
    "epsilon = 300*np.random.normal(size = data_len)\n",
    "Y = 100 + 20*X + epsilon"
   ]
  },
  {
   "cell_type": "code",
   "execution_count": 22,
   "metadata": {},
   "outputs": [
    {
     "data": {
      "text/plain": [
       "<matplotlib.collections.PathCollection at 0x7fe80af260a0>"
      ]
     },
     "execution_count": 22,
     "metadata": {},
     "output_type": "execute_result"
    },
    {
     "data": {
      "image/png": "[encoded data removed]",
      "text/plain": [
       "<Figure size 432x288 with 1 Axes>"
      ]
     },
     "metadata": {
      "needs_background": "light"
     },
     "output_type": "display_data"
    }
   ],
   "source": [
    "plt.scatter(X, Y)"
   ]
  },
  {
   "cell_type": "markdown",
   "metadata": {},
   "source": [
    "### 2. Recover parameters using OLS\n",
    "OLS minimizes sum of squared residuals, which has a unique solution:\n",
    "$$\\vec{\\beta} = (X'X)^{-1}X'Y$$"
   ]
  },
  {
   "cell_type": "code",
   "execution_count": 23,
   "metadata": {},
   "outputs": [],
   "source": [
    "# add the ones to the X matrix\n",
    "ones = np.ones(data_len)\n",
    "X = np.column_stack((ones, X))"
   ]
  },
  {
   "cell_type": "code",
   "execution_count": 24,
   "metadata": {},
   "outputs": [
    {
     "data": {
      "text/plain": [
       "array([[  1.        ,   9.76270079],\n",
       "       [  1.        ,  43.03787327],\n",
       "       [  1.        ,  20.55267521],\n",
       "       ...,\n",
       "       [  1.        ,  62.02656744],\n",
       "       [  1.        ,  10.20645555],\n",
       "       [  1.        , -54.84882876]])"
      ]
     },
     "execution_count": 24,
     "metadata": {},
     "output_type": "execute_result"
    }
   ],
   "source": [
    "X"
   ]
  },
  {
   "cell_type": "code",
   "execution_count": 25,
   "metadata": {},
   "outputs": [
    {
     "data": {
      "text/plain": [
       "array([[ 1.00000000e+05, -9.99933977e+03],\n",
       "       [-9.99933977e+03,  3.34168690e+08]])"
      ]
     },
     "execution_count": 25,
     "metadata": {},
     "output_type": "execute_result"
    }
   ],
   "source": [
    "Xt_X = X.T.dot(X)\n",
    "Xt_X"
   ]
  },
  {
   "cell_type": "code",
   "execution_count": 26,
   "metadata": {},
   "outputs": [
    {
     "data": {
      "text/plain": [
       "array([[1.00000299e-05, 2.99231196e-10],\n",
       "       [2.99231196e-10, 2.99250954e-09]])"
      ]
     },
     "execution_count": 26,
     "metadata": {},
     "output_type": "execute_result"
    }
   ],
   "source": [
    "Xt_X_inv = np.linalg.inv(Xt_X) \n",
    "Xt_X_inv"
   ]
  },
  {
   "cell_type": "code",
   "execution_count": 27,
   "metadata": {},
   "outputs": [
    {
     "data": {
      "text/plain": [
       "array([103.13337944,  20.01222525])"
      ]
     },
     "execution_count": 27,
     "metadata": {},
     "output_type": "execute_result"
    }
   ],
   "source": [
    "beta = Xt_X_inv.dot(X.T).dot(Y)\n",
    "beta"
   ]
  },
  {
   "cell_type": "code",
   "execution_count": 30,
   "metadata": {},
   "outputs": [
    {
     "name": "stdout",
     "output_type": "stream",
     "text": [
      "OLS recovered model from this random dataset: Y = 103.1+20.0X\n"
     ]
    }
   ],
   "source": [
    "print(f\"OLS recovered model from this random dataset: Y = {beta[0]:.1f}+{beta[1]:.1f}X\")"
   ]
  },
  {
   "cell_type": "markdown",
   "metadata": {},
   "source": [
    "### 3. Use statsmodel package"
   ]
  },
  {
   "cell_type": "code",
   "execution_count": 33,
   "metadata": {},
   "outputs": [
    {
     "name": "stdout",
     "output_type": "stream",
     "text": [
      "                   Results: Ordinary least squares\n",
      "=====================================================================\n",
      "Model:              OLS              Adj. R-squared:     0.937       \n",
      "Dependent Variable: y                AIC:                1424149.2243\n",
      "Date:               2020-12-12 13:22 BIC:                1424168.2501\n",
      "No. Observations:   100000           Log-Likelihood:     -7.1207e+05 \n",
      "Df Model:           1                F-statistic:        1.493e+06   \n",
      "Df Residuals:       99998            Prob (F-statistic): 0.00        \n",
      "R-squared:          0.937            Scale:              89643.      \n",
      "-----------------------------------------------------------------------\n",
      "          Coef.     Std.Err.       t       P>|t|     [0.025     0.975] \n",
      "-----------------------------------------------------------------------\n",
      "const    103.1334     0.9468    108.9280   0.0000   101.2777   104.9891\n",
      "x1        20.0122     0.0164   1221.8514   0.0000    19.9801    20.0443\n",
      "---------------------------------------------------------------------\n",
      "Omnibus:                0.457         Durbin-Watson:            2.002\n",
      "Prob(Omnibus):          0.796         Jarque-Bera (JB):         0.447\n",
      "Skew:                   0.004         Prob(JB):                 0.800\n",
      "Kurtosis:               3.007         Condition No.:            58   \n",
      "=====================================================================\n",
      "\n"
     ]
    }
   ],
   "source": [
    "import statsmodels.api as sm \n",
    "X = sm.add_constant(X)\n",
    "reg = sm.OLS(Y,X).fit()\n",
    "print(reg.summary2())"
   ]
  },
  {
   "cell_type": "code",
   "execution_count": 34,
   "metadata": {},
   "outputs": [
    {
     "name": "stdout",
     "output_type": "stream",
     "text": [
      "[103.13337944  20.01222525]\n"
     ]
    }
   ],
   "source": [
    "print(reg.params)"
   ]
  },
  {
   "cell_type": "markdown",
   "metadata": {},
   "source": [
    "### 4. Recover parameters using gradient descent\n",
    "* Loss function: let's use the sum of squared residuals again, denoted as L\n",
    "$$ \\mathrm{L} = \\sum_{i}(y_i - (\\beta_0 + \\beta_1 * x_i))^2$$\n",
    "\n",
    "* Initialize parameters with first guesses: $\\beta_0 = 0,\\ \\beta_1=0$\n",
    "\n",
    "* Calculate partial derivatives of the loss function with respect to $\\beta_0$ and $\\beta_1$:\n",
    "$$\\frac{\\partial L}{\\partial \\beta_1} = \\sum_{i}(-2x_i)(y_i-\\beta_0-\\beta_1*x_i)$$\n",
    "$$\\frac{\\partial L}{\\partial \\beta_0} = \\sum_{i}(-2)(y_i-\\beta_0-\\beta_1*x_i)$$\n",
    "\n",
    "* Update $\\beta_0$ and $\\beta_1$ using learning rate $\\alpha$\n",
    "$$\\beta_1 = \\beta_1 - \\alpha\\frac{\\partial L}{\\partial \\beta_1}$$\n",
    "$$\\beta_0 = \\beta_0 - \\alpha\\frac{\\partial L}{\\partial \\beta_0}$$\n",
    "* Repeat this process to shrink the loss L"
   ]
  },
  {
   "cell_type": "code",
   "execution_count": 89,
   "metadata": {},
   "outputs": [
    {
     "name": "stdout",
     "output_type": "stream",
     "text": [
      "iter 0 beta1 26.589196793147103 beta0 0.03842246495738132\n",
      "iter 500 beta1 19.998611967875174 beta0 17.996033321677647\n",
      "iter 1000 beta1 19.99928206056476 beta0 32.69766768196017\n",
      "iter 1500 beta1 19.99983066486447 beta0 44.73388289233428\n",
      "iter 2000 beta1 20.000279806725487 beta0 54.5879217726522\n",
      "iter 2500 beta1 20.000647518774826 beta0 62.65541479746317\n",
      "iter 3000 beta1 20.00094856430846 beta0 69.26026429073754\n",
      "iter 3500 beta1 20.00119503002391 beta0 74.66764880221412\n",
      "iter 4000 beta1 20.00139681128989 beta0 79.09466977895697\n",
      "iter 4500 beta1 20.00156200943611 beta0 82.71906798606175\n",
      "iter 5000 beta1 20.001697257014136 beta0 85.68635963267346\n",
      "iter 5500 beta1 20.001807984088142 beta0 88.11567871212563\n",
      "iter 6000 beta1 20.001898636246924 beta0 90.1045601207089\n",
      "iter 6500 beta1 20.00197285309014 beta0 91.73285559282948\n",
      "iter 7000 beta1 20.00203361435486 beta0 93.0659396737033\n",
      "iter 7500 beta1 20.00208335954922 beta0 94.15733444640077\n",
      "iter 8000 beta1 20.002124085896394 beta0 95.05085839358544\n",
      "iter 8500 beta1 20.002157428521254 beta0 95.78238566874275\n",
      "iter 9000 beta1 20.002184726099106 beta0 96.38128640999908\n",
      "iter 9500 beta1 20.002207074602254 beta0 96.8716059237864\n",
      "iter 10000 beta1 20.00222537130226 beta0 97.2730300814797\n",
      "iter 10500 beta1 20.002240350794576 beta0 97.60167568877986\n",
      "iter 11000 beta1 20.002252614491848 beta0 97.87073756043795\n",
      "iter 11500 beta1 20.002262654770096 beta0 98.09101827976582\n",
      "iter 12000 beta1 20.002270874737132 beta0 98.27136191228696\n",
      "iter 12500 beta1 20.00227760441696 beta0 98.41900908671994\n",
      "iter 13000 beta1 20.00228311399996 beta0 98.53988769947341\n",
      "iter 13500 beta1 20.002287624690748 beta0 98.63885091415958\n",
      "iter 14000 beta1 20.002291317589357 beta0 98.71987201158845\n",
      "iter 14500 beta1 20.002294340962226 beta0 98.7862039132899\n",
      "iter 15000 beta1 20.00229681619495 beta0 98.84050978327865\n",
      "iter 15500 beta1 20.00229884266582 beta0 98.88496995160779\n",
      "iter 16000 beta1 20.002300501735753 beta0 98.92136945258731\n",
      "iter 16500 beta1 20.002301860014857 beta0 98.95116969224789\n",
      "iter 17000 beta1 20.002302972036773 beta0 98.97556712243062\n",
      "iter 17500 beta1 20.002303882448143 beta0 98.99554127721251\n",
      "iter 18000 beta1 20.002304627801138 beta0 99.01189410028707\n",
      "iter 18500 beta1 20.002305238020984 beta0 99.0252821422556\n",
      "iter 19000 beta1 20.00230573760744 beta0 99.03624292052213\n",
      "iter 19500 beta1 20.002306146618434 beta0 99.0452165001159\n",
      "iter 20000 beta1 20.002306481475376 beta0 99.05256316189183\n",
      "iter 20500 beta1 20.002306755622463 beta0 99.05857786747137\n",
      "iter 21000 beta1 20.002306980066443 beta0 99.06350210167608\n",
      "iter 21500 beta1 20.002307163818536 beta0 99.06753356791856\n",
      "iter 22000 beta1 20.00230731425621 beta0 99.0708341258102\n",
      "iter 22500 beta1 20.002307437419407 beta0 99.07353628967338\n",
      "iter 23000 beta1 20.002307538253007 beta0 99.0757485488681\n",
      "iter 23500 beta1 20.002307620805386 beta0 99.07755972353861\n",
      "iter 24000 beta1 20.002307688390946 beta0 99.0790425306596\n",
      "iter 24500 beta1 20.00230774372319 beta0 99.08025650355435\n",
      "iter 25000 beta1 20.002307789023646 beta0 99.08125038210302\n",
      "iter 25500 beta1 20.00230782611109 beta0 99.08206406960281\n",
      "iter 26000 beta1 20.00230785647455 beta0 99.08273023484807\n",
      "iter 26500 beta1 20.002307881333085 beta0 99.08327562375268\n",
      "iter 27000 beta1 20.002307901684745 beta0 99.08372213317253\n",
      "iter 27500 beta1 20.002307918346634 beta0 99.08408769004458\n",
      "iter 28000 beta1 20.00230793198771 beta0 99.08438697113637\n",
      "iter 28500 beta1 20.002307943155643 beta0 99.08463199230492\n",
      "iter 29000 beta1 20.00230795229882 beta0 99.08483259092151\n",
      "iter 29500 beta1 20.002307959784332 beta0 99.08499682083378\n",
      "iter 30000 beta1 20.002307965912713 beta0 99.08513127571939\n",
      "iter 30500 beta1 20.002307970930016 beta0 99.08524135381688\n",
      "iter 31000 beta1 20.002307975037677 beta0 99.0853314746592\n",
      "iter 31500 beta1 20.002307978400616 beta0 99.08540525651406\n",
      "iter 32000 beta1 20.002307981153848 beta0 99.08546566165435\n",
      "iter 32500 beta1 20.00230798340792 beta0 99.08551511528975\n",
      "iter 33000 beta1 20.002307985253324 beta0 99.0855556029379\n",
      "iter 33500 beta1 20.002307986764155 beta0 99.08558875014012\n",
      "iter 34000 beta1 20.002307988001075 beta0 99.08561588772548\n",
      "iter 34500 beta1 20.002307989013737 beta0 99.0856381052429\n",
      "iter 35000 beta1 20.0023079898428 beta0 99.08565629470516\n",
      "iter 35500 beta1 20.002307990521558 beta0 99.0856711864019\n",
      "iter 36000 beta1 20.002307991077252 beta0 99.08568337822116\n",
      "iter 36500 beta1 20.002307991532202 beta0 99.085693359653\n",
      "iter 37000 beta1 20.00230799190467 beta0 99.08570153144241\n",
      "iter 37500 beta1 20.002307992209605 beta0 99.08570822167933\n",
      "iter 38000 beta1 20.002307992459258 beta0 99.08571369897042\n",
      "iter 38500 beta1 20.00230799266365 beta0 99.08571818322382\n",
      "iter 39000 beta1 20.002307992830982 beta0 99.08572185447814\n",
      "iter 39500 beta1 20.002307992967978 beta0 99.08572486013084\n",
      "iter 40000 beta1 20.002307993080137 beta0 99.08572732085636\n",
      "iter 40500 beta1 20.00230799317196 beta0 99.08572933545007\n",
      "iter 41000 beta1 20.002307993247136 beta0 99.0857309847962\n",
      "iter 41500 beta1 20.002307993308683 beta0 99.08573233511449\n",
      "iter 42000 beta1 20.00230799335907 beta0 99.0857334406188\n",
      "iter 42500 beta1 20.002307993400326 beta0 99.0857343456942\n",
      "iter 43000 beta1 20.002307993434098 beta0 99.08573508667851\n",
      "iter 43500 beta1 20.00230799346175 beta0 99.08573569332167\n",
      "iter 44000 beta1 20.002307993484386 beta0 99.08573618998012\n",
      "iter 44500 beta1 20.00230799350292 beta0 99.08573659659379\n",
      "iter 45000 beta1 20.00230799351809 beta0 99.08573692948814\n",
      "iter 45500 beta1 20.002307993530515 beta0 99.08573720202838\n",
      "iter 46000 beta1 20.002307993540686 beta0 99.08573742515688\n",
      "iter 46500 beta1 20.00230799354901 beta0 99.08573760783204\n",
      "iter 47000 beta1 20.002307993555828 beta0 99.08573775738797\n",
      "iter 47500 beta1 20.00230799356141 beta0 99.0857378798293\n",
      "iter 48000 beta1 20.002307993565978 beta0 99.08573798007195\n",
      "iter 48500 beta1 20.00230799356972 beta0 99.08573806214044\n",
      "iter 49000 beta1 20.00230799357278 beta0 99.08573812932978\n",
      "iter 49500 beta1 20.00230799357529 beta0 99.08573818433779\n",
      "iter 50000 beta1 20.00230799357734 beta0 99.08573822937267\n",
      "iter 50500 beta1 20.00230799357902 beta0 99.08573826624263\n",
      "iter 51000 beta1 20.0023079935804 beta0 99.08573829642818\n",
      "iter 51500 beta1 20.002307993581525 beta0 99.08573832114094\n",
      "iter 52000 beta1 20.002307993582445 beta0 99.08573834137337\n",
      "iter 52500 beta1 20.0023079935832 beta0 99.08573835793781\n",
      "iter 53000 beta1 20.00230799358382 beta0 99.08573837149898\n",
      "iter 53500 beta1 20.002307993584324 beta0 99.08573838260138\n",
      "iter 54000 beta1 20.00230799358474 beta0 99.08573839169102\n",
      "iter 54500 beta1 20.002307993585077 beta0 99.08573839913264\n",
      "iter 55000 beta1 20.002307993585354 beta0 99.08573840522516\n",
      "iter 55500 beta1 20.002307993585582 beta0 99.08573841021304\n",
      "iter 56000 beta1 20.00230799358577 beta0 99.08573841429653\n",
      "iter 56500 beta1 20.002307993585923 beta0 99.0857384176397\n",
      "iter 57000 beta1 20.002307993586047 beta0 99.08573842037683\n",
      "iter 57500 beta1 20.002307993586147 beta0 99.08573842261774\n",
      "iter 58000 beta1 20.002307993586232 beta0 99.08573842445233\n",
      "iter 58500 beta1 20.0023079935863 beta0 99.08573842595428\n",
      "iter 59000 beta1 20.002307993586356 beta0 99.08573842718391\n",
      "iter 59500 beta1 20.002307993586403 beta0 99.08573842819061\n",
      "iter 60000 beta1 20.002307993586438 beta0 99.0857384290148\n",
      "iter 60500 beta1 20.00230799358647 beta0 99.08573842968958\n",
      "iter 61000 beta1 20.002307993586495 beta0 99.085738430242\n",
      "iter 61500 beta1 20.002307993586516 beta0 99.08573843069433\n",
      "iter 62000 beta1 20.002307993586534 beta0 99.08573843106451\n",
      "iter 62500 beta1 20.002307993586548 beta0 99.08573843136774\n",
      "iter 63000 beta1 20.00230799358656 beta0 99.08573843161594\n",
      "iter 63500 beta1 20.002307993586566 beta0 99.08573843181902\n",
      "iter 64000 beta1 20.002307993586577 beta0 99.08573843198535\n",
      "iter 64500 beta1 20.00230799358658 beta0 99.0857384321216\n",
      "iter 65000 beta1 20.002307993586587 beta0 99.085738432233\n",
      "iter 65500 beta1 20.00230799358659 beta0 99.08573843232445\n",
      "iter 66000 beta1 20.002307993586594 beta0 99.08573843239934\n",
      "iter 66500 beta1 20.002307993586598 beta0 99.08573843246012\n",
      "iter 67000 beta1 20.002307993586598 beta0 99.08573843251037\n",
      "iter 67500 beta1 20.0023079935866 beta0 99.08573843255105\n",
      "iter 68000 beta1 20.0023079935866 beta0 99.08573843258462\n",
      "iter 68500 beta1 20.002307993586605 beta0 99.08573843261287\n",
      "iter 69000 beta1 20.002307993586605 beta0 99.08573843263419\n"
     ]
    },
    {
     "name": "stdout",
     "output_type": "stream",
     "text": [
      "iter 69500 beta1 20.002307993586605 beta0 99.08573843265297\n",
      "iter 70000 beta1 20.002307993586605 beta0 99.08573843266718\n",
      "iter 70500 beta1 20.002307993586605 beta0 99.0857384326814\n",
      "iter 71000 beta1 20.00230799358661 beta0 99.08573843268948\n",
      "iter 71500 beta1 20.00230799358661 beta0 99.08573843269659\n",
      "iter 72000 beta1 20.00230799358661 beta0 99.08573843270369\n",
      "iter 72500 beta1 20.00230799358661 beta0 99.0857384327108\n",
      "iter 73000 beta1 20.00230799358661 beta0 99.0857384327179\n",
      "iter 73500 beta1 20.00230799358661 beta0 99.0857384327189\n",
      "iter 74000 beta1 20.00230799358661 beta0 99.0857384327189\n",
      "iter 74500 beta1 20.00230799358661 beta0 99.0857384327189\n",
      "iter 75000 beta1 20.00230799358661 beta0 99.0857384327189\n",
      "iter 75500 beta1 20.00230799358661 beta0 99.0857384327189\n",
      "iter 76000 beta1 20.00230799358661 beta0 99.0857384327189\n",
      "iter 76500 beta1 20.00230799358661 beta0 99.0857384327189\n",
      "iter 77000 beta1 20.00230799358661 beta0 99.0857384327189\n",
      "iter 77500 beta1 20.00230799358661 beta0 99.0857384327189\n",
      "iter 78000 beta1 20.00230799358661 beta0 99.0857384327189\n",
      "iter 78500 beta1 20.00230799358661 beta0 99.0857384327189\n",
      "iter 79000 beta1 20.00230799358661 beta0 99.0857384327189\n",
      "iter 79500 beta1 20.00230799358661 beta0 99.0857384327189\n",
      "iter 80000 beta1 20.00230799358661 beta0 99.0857384327189\n",
      "iter 80500 beta1 20.00230799358661 beta0 99.0857384327189\n",
      "iter 81000 beta1 20.00230799358661 beta0 99.0857384327189\n",
      "iter 81500 beta1 20.00230799358661 beta0 99.0857384327189\n",
      "iter 82000 beta1 20.00230799358661 beta0 99.0857384327189\n",
      "iter 82500 beta1 20.00230799358661 beta0 99.0857384327189\n",
      "iter 83000 beta1 20.00230799358661 beta0 99.0857384327189\n",
      "iter 83500 beta1 20.00230799358661 beta0 99.0857384327189\n",
      "iter 84000 beta1 20.00230799358661 beta0 99.0857384327189\n",
      "iter 84500 beta1 20.00230799358661 beta0 99.0857384327189\n",
      "iter 85000 beta1 20.00230799358661 beta0 99.0857384327189\n",
      "iter 85500 beta1 20.00230799358661 beta0 99.0857384327189\n",
      "iter 86000 beta1 20.00230799358661 beta0 99.0857384327189\n",
      "iter 86500 beta1 20.00230799358661 beta0 99.0857384327189\n",
      "iter 87000 beta1 20.00230799358661 beta0 99.0857384327189\n",
      "iter 87500 beta1 20.00230799358661 beta0 99.0857384327189\n",
      "iter 88000 beta1 20.00230799358661 beta0 99.0857384327189\n",
      "iter 88500 beta1 20.00230799358661 beta0 99.0857384327189\n",
      "iter 89000 beta1 20.00230799358661 beta0 99.0857384327189\n",
      "iter 89500 beta1 20.00230799358661 beta0 99.0857384327189\n",
      "iter 90000 beta1 20.00230799358661 beta0 99.0857384327189\n",
      "iter 90500 beta1 20.00230799358661 beta0 99.0857384327189\n",
      "iter 91000 beta1 20.00230799358661 beta0 99.0857384327189\n",
      "iter 91500 beta1 20.00230799358661 beta0 99.0857384327189\n",
      "iter 92000 beta1 20.00230799358661 beta0 99.0857384327189\n",
      "iter 92500 beta1 20.00230799358661 beta0 99.0857384327189\n",
      "iter 93000 beta1 20.00230799358661 beta0 99.0857384327189\n",
      "iter 93500 beta1 20.00230799358661 beta0 99.0857384327189\n",
      "iter 94000 beta1 20.00230799358661 beta0 99.0857384327189\n",
      "iter 94500 beta1 20.00230799358661 beta0 99.0857384327189\n",
      "iter 95000 beta1 20.00230799358661 beta0 99.0857384327189\n",
      "iter 95500 beta1 20.00230799358661 beta0 99.0857384327189\n",
      "iter 96000 beta1 20.00230799358661 beta0 99.0857384327189\n",
      "iter 96500 beta1 20.00230799358661 beta0 99.0857384327189\n",
      "iter 97000 beta1 20.00230799358661 beta0 99.0857384327189\n",
      "iter 97500 beta1 20.00230799358661 beta0 99.0857384327189\n",
      "iter 98000 beta1 20.00230799358661 beta0 99.0857384327189\n",
      "iter 98500 beta1 20.00230799358661 beta0 99.0857384327189\n",
      "iter 99000 beta1 20.00230799358661 beta0 99.0857384327189\n",
      "iter 99500 beta1 20.00230799358661 beta0 99.0857384327189\n",
      "20.00230799358661 99.0857384327189\n"
     ]
    }
   ],
   "source": [
    "X = np.random.uniform(-100, 100, data_len)\n",
    "epsilon = 300*np.random.normal(size = data_len)\n",
    "Y = 100 + 20*X + epsilon\n",
    "beta1, beta0 = 0, 0\n",
    "alpha = 0.000000002 # learning rate\n",
    "epochs = 100000\n",
    "# gradient descent\n",
    "for i in range(epochs):\n",
    "    Y_pred = beta1*X+beta0\n",
    "    D_1 = sum(-2*X*(Y-Y_pred)) # partial L partial beta_1\n",
    "    D_0 = sum(-2*(Y-Y_pred)) # partial L partial beta_0\n",
    "    beta1 -= alpha*D_1 # use learning rate to update beta1\n",
    "    beta0 -= alpha*D_0 # use learning rate to update beta0\n",
    "    if i%500 == 0:\n",
    "        print(f\"iter {i} beta1 {beta1} beta0 {beta0}\")\n",
    "print(beta1, beta0)\n",
    "    "
   ]
  },
  {
   "cell_type": "code",
   "execution_count": null,
   "metadata": {},
   "outputs": [],
   "source": []
  }
 ],
 "metadata": {
  "kernelspec": {
   "display_name": "Python [conda env:cc] *",
   "language": "python",
   "name": "conda-env-cc-py"
  },
  "language_info": {
   "codemirror_mode": {
    "name": "ipython",
    "version": 3
   },
   "file_extension": ".py",
   "mimetype": "text/x-python",
   "name": "python",
   "nbconvert_exporter": "python",
   "pygments_lexer": "ipython3",
   "version": "3.8.5"
  }
 },
 "nbformat": 4,
 "nbformat_minor": 4
}
