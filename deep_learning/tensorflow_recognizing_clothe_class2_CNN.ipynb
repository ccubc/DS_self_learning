{
  "nbformat": 4,
  "nbformat_minor": 0,
  "metadata": {
    "colab": {
      "name": "CNN.ipynb",
      "provenance": [],
      "collapsed_sections": []
    },
    "kernelspec": {
      "name": "python3",
      "display_name": "Python 3"
    },
    "accelerator": "GPU"
  },
  "cells": [
    {
      "cell_type": "markdown",
      "metadata": {
        "id": "giNS3vuAMDv4",
        "colab_type": "text"
      },
      "source": [
        "# Improving Computer Vision Accuracy using Convolutions"
      ]
    },
    {
      "cell_type": "code",
      "metadata": {
        "id": "uSSZ9IFyMBjT",
        "colab_type": "code",
        "colab": {
          "base_uri": "https://localhost:8080/",
          "height": 258
        },
        "outputId": "7d8d7f23-4f70-4f3d-92eb-eba22cd1d8aa"
      },
      "source": [
        "%tensorflow_version 2.x\n",
        "import tensorflow as tf\n",
        "print(tf.__version__)\n",
        "mnist = tf.keras.datasets.fashion_mnist\n",
        "(training_images, training_labels),(test_images, test_labels) = mnist.load_data()\n",
        "training_images = training_images / 255.0\n",
        "test_images = test_images / 255.0\n",
        "model = tf.keras.models.Sequential([\n",
        "      tf.keras.layers.Flatten(),\n",
        "      tf.keras.layers.Dense(128, activation = tf.nn.relu),\n",
        "      tf.keras.layers.Dense(10, activation = tf.nn.softmax)\n",
        "])\n",
        "model.compile(optimizer = 'adam', loss = 'sparse_categorical_crossentropy', metrics = ['accuracy'])\n",
        "model.fit(training_images, training_labels, epochs = 5)\n",
        "test_loss = model.evaluate(test_images, test_labels)"
      ],
      "execution_count": 3,
      "outputs": [
        {
          "output_type": "stream",
          "text": [
            "2.1.0-rc1\n",
            "Train on 60000 samples\n",
            "Epoch 1/5\n",
            "60000/60000 [==============================] - 4s 74us/sample - loss: 0.4982 - accuracy: 0.8231\n",
            "Epoch 2/5\n",
            "60000/60000 [==============================] - 4s 70us/sample - loss: 0.3733 - accuracy: 0.8639\n",
            "Epoch 3/5\n",
            "60000/60000 [==============================] - 4s 71us/sample - loss: 0.3342 - accuracy: 0.8777\n",
            "Epoch 4/5\n",
            "60000/60000 [==============================] - 4s 72us/sample - loss: 0.3111 - accuracy: 0.8857\n",
            "Epoch 5/5\n",
            "60000/60000 [==============================] - 4s 72us/sample - loss: 0.2957 - accuracy: 0.8900\n",
            "10000/10000 [==============================] - 1s 69us/sample - loss: 0.3455 - accuracy: 0.8753\n"
          ],
          "name": "stdout"
        }
      ]
    },
    {
      "cell_type": "markdown",
      "metadata": {
        "id": "RU0Xr3LnTU29",
        "colab_type": "text"
      },
      "source": [
        "Result from using a simple DNN: training accuracy = 0.89, testing accuracy = 0.88<br>\n",
        "To improve the result, one simple trick is to use CNN, which adds a filter when processing images. This helps with edge detection. <br>\n",
        "The code below implements a CNN: add some layers to do convolution before you have the dense layers, and then the information going to the dense layers is more focused, and possibly more accurate. "
      ]
    },
    {
      "cell_type": "code",
      "metadata": {
        "id": "Q0VCb3WLSNjn",
        "colab_type": "code",
        "colab": {
          "base_uri": "https://localhost:8080/",
          "height": 632
        },
        "outputId": "4986ad44-8b13-4f83-faae-88f9cb6e70fb"
      },
      "source": [
        "import tensorflow as tf\n",
        "print(tf.__version__)\n",
        "mnist = tf.keras.datasets.fashion_mnist\n",
        "(training_images, training_labels), (test_images, test_labels) = mnist.load_data()\n",
        "training_images = training_images.reshape(60000, 28, 28, 1)\n",
        "training_images = training_images / 255.0\n",
        "test_images = test_images.reshape(10000, 28, 28, 1)\n",
        "test_images = test_images / 255.0\n",
        "model = tf.keras.models.Sequential([\n",
        "      tf.keras.layers.Conv2D(64, (3,3), activation = 'relu', input_shape = (28,28,1)),\n",
        "      tf.keras.layers.MaxPooling2D(2,2),\n",
        "      tf.keras.layers.Conv2D(64, (3,3), activation = 'relu'),\n",
        "      tf.keras.layers.MaxPooling2D(2,2),\n",
        "      tf.keras.layers.Flatten(),\n",
        "      tf.keras.layers.Dense(128, activation = 'relu'),\n",
        "      tf.keras.layers.Dense(10, activation = 'softmax')\n",
        " ])\n",
        "model.compile(optimizer = 'adam', loss = 'sparse_categorical_crossentropy', metrics = ['accuracy'])\n",
        "model.summary()\n",
        "model.fit(training_images, training_labels, epochs = 5)\n",
        "test_loss = model.evaluate(test_images, test_labels)\n"
      ],
      "execution_count": 11,
      "outputs": [
        {
          "output_type": "stream",
          "text": [
            "2.1.0-rc1\n",
            "Model: \"sequential_6\"\n",
            "_________________________________________________________________\n",
            "Layer (type)                 Output Shape              Param #   \n",
            "=================================================================\n",
            "conv2d_8 (Conv2D)            (None, 26, 26, 64)        640       \n",
            "_________________________________________________________________\n",
            "max_pooling2d_5 (MaxPooling2 (None, 13, 13, 64)        0         \n",
            "_________________________________________________________________\n",
            "conv2d_9 (Conv2D)            (None, 11, 11, 64)        36928     \n",
            "_________________________________________________________________\n",
            "max_pooling2d_6 (MaxPooling2 (None, 5, 5, 64)          0         \n",
            "_________________________________________________________________\n",
            "flatten_6 (Flatten)          (None, 1600)              0         \n",
            "_________________________________________________________________\n",
            "dense_12 (Dense)             (None, 128)               204928    \n",
            "_________________________________________________________________\n",
            "dense_13 (Dense)             (None, 10)                1290      \n",
            "=================================================================\n",
            "Total params: 243,786\n",
            "Trainable params: 243,786\n",
            "Non-trainable params: 0\n",
            "_________________________________________________________________\n",
            "Train on 60000 samples\n",
            "Epoch 1/5\n",
            "60000/60000 [==============================] - 6s 97us/sample - loss: 0.4442 - accuracy: 0.8386\n",
            "Epoch 2/5\n",
            "60000/60000 [==============================] - 5s 88us/sample - loss: 0.2979 - accuracy: 0.8906\n",
            "Epoch 3/5\n",
            "60000/60000 [==============================] - 6s 93us/sample - loss: 0.2490 - accuracy: 0.9079\n",
            "Epoch 4/5\n",
            "60000/60000 [==============================] - 6s 94us/sample - loss: 0.2167 - accuracy: 0.9180\n",
            "Epoch 5/5\n",
            "60000/60000 [==============================] - 5s 89us/sample - loss: 0.1904 - accuracy: 0.9280\n",
            "10000/10000 [==============================] - 1s 75us/sample - loss: 0.2576 - accuracy: 0.9066\n"
          ],
          "name": "stdout"
        }
      ]
    },
    {
      "cell_type": "markdown",
      "metadata": {
        "id": "4PtjgBzrXGFg",
        "colab_type": "text"
      },
      "source": [
        "Training accuracy and testing accuracy increased to 0.93 and 0.91 respectively, which are huge improvements."
      ]
    },
    {
      "cell_type": "code",
      "metadata": {
        "id": "mgR2lPkLTMAD",
        "colab_type": "code",
        "colab": {
          "base_uri": "https://localhost:8080/",
          "height": 751
        },
        "outputId": "e0bac537-46f7-4ee4-fce7-234bde93f39d"
      },
      "source": [
        "model.fit(training_images, training_labels, epochs = 20)\n",
        "test_loss = model.evaluate(test_images, test_labels)"
      ],
      "execution_count": 12,
      "outputs": [
        {
          "output_type": "stream",
          "text": [
            "Train on 60000 samples\n",
            "Epoch 1/20\n",
            "60000/60000 [==============================] - 5s 88us/sample - loss: 0.1690 - accuracy: 0.9351\n",
            "Epoch 2/20\n",
            "60000/60000 [==============================] - 5s 87us/sample - loss: 0.1469 - accuracy: 0.9446\n",
            "Epoch 3/20\n",
            "60000/60000 [==============================] - 5s 89us/sample - loss: 0.1318 - accuracy: 0.9503\n",
            "Epoch 4/20\n",
            "60000/60000 [==============================] - 5s 89us/sample - loss: 0.1124 - accuracy: 0.9576\n",
            "Epoch 5/20\n",
            "60000/60000 [==============================] - 5s 88us/sample - loss: 0.1012 - accuracy: 0.9620\n",
            "Epoch 6/20\n",
            "60000/60000 [==============================] - 5s 87us/sample - loss: 0.0885 - accuracy: 0.9661\n",
            "Epoch 7/20\n",
            "60000/60000 [==============================] - 5s 88us/sample - loss: 0.0775 - accuracy: 0.9707\n",
            "Epoch 8/20\n",
            "60000/60000 [==============================] - 5s 90us/sample - loss: 0.0697 - accuracy: 0.9736\n",
            "Epoch 9/20\n",
            "60000/60000 [==============================] - 6s 93us/sample - loss: 0.0629 - accuracy: 0.9760\n",
            "Epoch 10/20\n",
            "60000/60000 [==============================] - 6s 93us/sample - loss: 0.0572 - accuracy: 0.9785\n",
            "Epoch 11/20\n",
            "60000/60000 [==============================] - 5s 89us/sample - loss: 0.0519 - accuracy: 0.9809\n",
            "Epoch 12/20\n",
            "60000/60000 [==============================] - 5s 89us/sample - loss: 0.0467 - accuracy: 0.9823\n",
            "Epoch 13/20\n",
            "60000/60000 [==============================] - 5s 89us/sample - loss: 0.0434 - accuracy: 0.9834\n",
            "Epoch 14/20\n",
            "60000/60000 [==============================] - 5s 89us/sample - loss: 0.0396 - accuracy: 0.9851\n",
            "Epoch 15/20\n",
            "60000/60000 [==============================] - 5s 87us/sample - loss: 0.0394 - accuracy: 0.9855\n",
            "Epoch 16/20\n",
            "60000/60000 [==============================] - 5s 88us/sample - loss: 0.0360 - accuracy: 0.9865\n",
            "Epoch 17/20\n",
            "60000/60000 [==============================] - 5s 87us/sample - loss: 0.0360 - accuracy: 0.9859\n",
            "Epoch 18/20\n",
            "60000/60000 [==============================] - 5s 88us/sample - loss: 0.0363 - accuracy: 0.9869\n",
            "Epoch 19/20\n",
            "60000/60000 [==============================] - 5s 89us/sample - loss: 0.0286 - accuracy: 0.9891\n",
            "Epoch 20/20\n",
            "60000/60000 [==============================] - 5s 87us/sample - loss: 0.0313 - accuracy: 0.9886\n",
            "10000/10000 [==============================] - 1s 65us/sample - loss: 0.6014 - accuracy: 0.9103\n"
          ],
          "name": "stdout"
        }
      ]
    },
    {
      "cell_type": "markdown",
      "metadata": {
        "id": "oTJ-Vg84X69G",
        "colab_type": "text"
      },
      "source": [
        "The above code increased the epochs to 20, training accuracy increased to 0.99 but testing accuracy stays at 0.91 --- a sign of overfitting<br>\n",
        "### The above CNN code explained:\n",
        "Step 1 is to gather the data. You'll notice that there's a bit of a change here in that the training data needed to be reshaped. That's because the first convolution expects a single tensor containing everything, so instead of 60,000 28x28x1 items in a list, we have a single 4D list that is 60,000x28x28x1, and the same for the test images. If you don't do this, you'll get an error when training as the Convolutions do not recognize the shape.<br>\n",
        "Next is to define your model. Now instead of the input layer at the top, you're going to add a Convolution. The parameters are:\n",
        "\n",
        "1. The number of convolutions you want to generate. Purely arbitrary, but good to start with something in the order of 32\n",
        "2. The size of the Convolution, in this case a 3x3 grid\n",
        "3. The activation function to use -- in this case we'll use relu, which you might recall is the equivalent of returning x when x>0, else returning 0\n",
        "4. In the first layer, the shape of the input data.\n",
        "\n",
        "You'll follow the Convolution with a MaxPooling layer which is then designed to compress the image, while maintaining the content of the features that were highlighted by the convlution. By specifying (2,2) for the MaxPooling, the effect is to quarter the size of the image. Without going into too much detail here, the idea is that it creates a 2x2 array of pixels, and picks the biggest one, thus turning 4 pixels into 1. It repeats this across the image, and in so doing halves the number of horizontal, and halves the number of vertical pixels, effectively reducing the image by 25%.\n",
        "\n",
        "You can call model.summary() to see the size and shape of the network, and you'll notice that after every MaxPooling layer, the image size is reduced in this way. \n",
        "\n",
        "\n",
        "\n"
      ]
    },
    {
      "cell_type": "markdown",
      "metadata": {
        "id": "txaun47xborr",
        "colab_type": "text"
      },
      "source": [
        "# Visualizing the Convolutions and Pooling"
      ]
    },
    {
      "cell_type": "code",
      "metadata": {
        "id": "lKdq7ZeIXcJ_",
        "colab_type": "code",
        "colab": {
          "base_uri": "https://localhost:8080/",
          "height": 88
        },
        "outputId": "de85cb88-1bb9-4b60-c024-d4d447c4f6f2"
      },
      "source": [
        "print(test_labels[:100])"
      ],
      "execution_count": 13,
      "outputs": [
        {
          "output_type": "stream",
          "text": [
            "[9 2 1 1 6 1 4 6 5 7 4 5 7 3 4 1 2 4 8 0 2 5 7 9 1 4 6 0 9 3 8 8 3 3 8 0 7\n",
            " 5 7 9 6 1 3 7 6 7 2 1 2 2 4 4 5 8 2 2 8 4 8 0 7 7 8 5 1 1 2 3 9 8 7 0 2 6\n",
            " 2 3 1 2 8 4 1 8 5 9 5 0 3 2 0 6 5 3 6 7 1 8 0 1 4 2]\n"
          ],
          "name": "stdout"
        }
      ]
    },
    {
      "cell_type": "code",
      "metadata": {
        "id": "mbhV61-Tbx_E",
        "colab_type": "code",
        "colab": {
          "base_uri": "https://localhost:8080/",
          "height": 268
        },
        "outputId": "d0e493ac-24ec-4960-a495-9320fb8b712f"
      },
      "source": [
        "import matplotlib.pyplot as plt\n",
        "f, axarr = plt.subplots(3,4)\n",
        "FIRST_IMAGE = 0\n",
        "SECOND_IMAGE = 7\n",
        "THIRD_IMAGE = 26\n",
        "CONVOLUTION_NUMBER = 1\n",
        "from tensorflow.keras import models\n",
        "layer_outputs = [layer.output for layer in model.layers]\n",
        "activation_model = tf.keras.models.Model(inputs = model.input, outputs = layer_outputs)\n",
        "for x in range(0,4):\n",
        "  f1 = activation_model.predict(test_images[FIRST_IMAGE].reshape(1, 28, 28, 1))[x]\n",
        "  axarr[0,x].imshow(f1[0, : , :, CONVOLUTION_NUMBER], cmap='inferno')\n",
        "  axarr[0,x].grid(False)\n",
        "  f2 = activation_model.predict(test_images[SECOND_IMAGE].reshape(1, 28, 28, 1))[x]\n",
        "  axarr[1,x].imshow(f2[0, : , :, CONVOLUTION_NUMBER], cmap='inferno')\n",
        "  axarr[1,x].grid(False)\n",
        "  f3 = activation_model.predict(test_images[THIRD_IMAGE].reshape(1, 28, 28, 1))[x]\n",
        "  axarr[2,x].imshow(f3[0, : , :, CONVOLUTION_NUMBER], cmap='inferno')\n",
        "  axarr[2,x].grid(False)  "
      ],
      "execution_count": 14,
      "outputs": [
        {
          "output_type": "display_data",
          "data": {
            "image/png": "[encoded data removed]",
            "text/plain": [
              "<Figure size 432x288 with 12 Axes>"
            ]
          },
          "metadata": {
            "tags": []
          }
        }
      ]
    },
    {
      "cell_type": "markdown",
      "metadata": {
        "id": "G5EyzFXLc8li",
        "colab_type": "text"
      },
      "source": [
        "### Add callbacks to the CNN"
      ]
    },
    {
      "cell_type": "code",
      "metadata": {
        "id": "LX87TN6wcdFc",
        "colab_type": "code",
        "colab": {
          "base_uri": "https://localhost:8080/",
          "height": 156
        },
        "outputId": "8ce7a0f4-eaf4-473a-b1b1-60de36176c67"
      },
      "source": [
        "class myCallback(tf.keras.callbacks.Callback):\n",
        "  def on_epoch_end(self, epoch, logs={}):\n",
        "    if(logs.get('accuracy')>0.95):\n",
        "      print(\"\\nReached 95% accuracy so cancelling training!\")\n",
        "      self.model.stop_training = True\n",
        "callbacks = myCallback()\n",
        "model.fit(training_images, training_labels, epochs=10, callbacks = [callbacks])\n",
        "test_loss, test_acc = model.evaluate(test_images, test_labels)\n",
        "print(test_acc)"
      ],
      "execution_count": 17,
      "outputs": [
        {
          "output_type": "stream",
          "text": [
            "Train on 60000 samples\n",
            "Epoch 1/10\n",
            "59872/60000 [============================>.] - ETA: 0s - loss: 0.0270 - accuracy: 0.9903\n",
            "Reached 95% accuracy so cancelling training!\n",
            "60000/60000 [==============================] - 5s 90us/sample - loss: 0.0271 - accuracy: 0.9903\n",
            "10000/10000 [==============================] - 1s 70us/sample - loss: 0.6128 - accuracy: 0.9125\n",
            "0.9125\n"
          ],
          "name": "stdout"
        }
      ]
    },
    {
      "cell_type": "code",
      "metadata": {
        "id": "W9a8g0SEenoU",
        "colab_type": "code",
        "colab": {}
      },
      "source": [
        ""
      ],
      "execution_count": 0,
      "outputs": []
    }
  ]
}