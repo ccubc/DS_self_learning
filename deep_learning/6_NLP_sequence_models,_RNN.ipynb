{
  "nbformat": 4,
  "nbformat_minor": 0,
  "metadata": {
    "colab": {
      "name": "6 NLP sequence models, RNN.ipynb",
      "provenance": [],
      "collapsed_sections": [],
      "include_colab_link": true
    },
    "kernelspec": {
      "name": "python3",
      "display_name": "Python 3"
    },
    "accelerator": "GPU"
  },
  "cells": [
    {
      "cell_type": "markdown",
      "metadata": {
        "id": "view-in-github",
        "colab_type": "text"
      },
      "source": [
        "<a href=\"https://colab.research.google.com/github/ccubc/DS_self_learning/blob/master/deep_learning/6_NLP_sequence_models%2C_RNN.ipynb\" target=\"_parent\"><img src=\"https://colab.research.google.com/assets/colab-badge.svg\" alt=\"Open In Colab\"/></a>"
      ]
    },
    {
      "cell_type": "code",
      "metadata": {
        "id": "uVjI0VjJGlST",
        "colab_type": "code",
        "colab": {
          "base_uri": "https://localhost:8080/",
          "height": 51
        },
        "outputId": "4cce8b4b-f19a-463f-aaf1-516178d92d22"
      },
      "source": [
        "%tensorflow_version 2.x\n",
        "import tensorflow as tf\n",
        "print(tf.__version__)\n",
        "from __future__ import absolute_import, division, print_function, unicode_literals\n",
        "import tensorflow_datasets as tfds"
      ],
      "execution_count": 2,
      "outputs": [
        {
          "output_type": "stream",
          "text": [
            "TensorFlow 2.x selected.\n",
            "2.1.0-rc1\n"
          ],
          "name": "stdout"
        }
      ]
    },
    {
      "cell_type": "markdown",
      "metadata": {
        "id": "--qlTEznAl08",
        "colab_type": "text"
      },
      "source": [
        "## Single Layer LSTM"
      ]
    },
    {
      "cell_type": "code",
      "metadata": {
        "id": "SwpQIlnYADxA",
        "colab_type": "code",
        "colab": {
          "base_uri": "https://localhost:8080/",
          "height": 711
        },
        "outputId": "cd7cc26f-4ef8-41f8-e152-826aeed4a967"
      },
      "source": [
        "import json\n",
        "\n",
        "from tensorflow.keras.preprocessing.text import Tokenizer\n",
        "from tensorflow.keras.preprocessing.sequence import pad_sequences\n",
        "\n",
        "!wget --no-check-certificate \\\n",
        "    https://storage.googleapis.com/laurencemoroney-blog.appspot.com/sarcasm.json \\\n",
        "    -O /tmp/sarcasm.json\n",
        "\n",
        "vocab_size = 1000\n",
        "embedding_dim = 16\n",
        "max_length = 120\n",
        "trunc_type='post'\n",
        "padding_type='post'\n",
        "oov_tok = \"<OOV>\"\n",
        "training_size = 20000\n",
        "\n",
        "\n",
        "with open(\"/tmp/sarcasm.json\", 'r') as f:\n",
        "    datastore = json.load(f)\n",
        "\n",
        "\n",
        "sentences = []\n",
        "labels = []\n",
        "urls = []\n",
        "for item in datastore:\n",
        "    sentences.append(item['headline'])\n",
        "    labels.append(item['is_sarcastic'])\n",
        "\n",
        "training_sentences = sentences[0:training_size]\n",
        "testing_sentences = sentences[training_size:]\n",
        "training_labels = labels[0:training_size]\n",
        "testing_labels = labels[training_size:]\n",
        "\n",
        "tokenizer = Tokenizer(num_words=vocab_size, oov_token=oov_tok)\n",
        "tokenizer.fit_on_texts(training_sentences)\n",
        "\n",
        "word_index = tokenizer.word_index\n",
        "\n",
        "training_sequences = tokenizer.texts_to_sequences(training_sentences)\n",
        "training_padded = pad_sequences(training_sequences, maxlen=max_length, padding=padding_type, truncating=trunc_type)\n",
        "\n",
        "testing_sequences = tokenizer.texts_to_sequences(testing_sentences)\n",
        "testing_padded = pad_sequences(testing_sequences, maxlen=max_length, padding=padding_type, truncating=trunc_type)\n",
        "\n",
        "model = tf.keras.Sequential([\n",
        "    tf.keras.layers.Embedding(vocab_size, embedding_dim, input_length=max_length),\n",
        "    tf.keras.layers.Bidirectional(tf.keras.layers.LSTM(32)),\n",
        "    tf.keras.layers.Dense(24, activation='relu'),\n",
        "    tf.keras.layers.Dense(1, activation='sigmoid')\n",
        "])\n",
        "model.compile(loss='binary_crossentropy',optimizer='adam',metrics=['accuracy'])\n",
        "model.summary()\n"
      ],
      "execution_count": 22,
      "outputs": [
        {
          "output_type": "stream",
          "text": [
            "--2020-01-04 05:22:35--  https://storage.googleapis.com/laurencemoroney-blog.appspot.com/sarcasm.json\n",
            "Resolving storage.googleapis.com (storage.googleapis.com)... 74.125.68.128, 2404:6800:4003:c03::80\n",
            "Connecting to storage.googleapis.com (storage.googleapis.com)|74.125.68.128|:443... connected.\n",
            "HTTP request sent, awaiting response... 200 OK\n",
            "Length: 5643545 (5.4M) [application/json]\n",
            "Saving to: ‘/tmp/sarcasm.json’\n",
            "\n",
            "\r/tmp/sarcasm.json     0%[                    ]       0  --.-KB/s               \r/tmp/sarcasm.json   100%[===================>]   5.38M  --.-KB/s    in 0.02s   \n",
            "\n",
            "2020-01-04 05:22:35 (297 MB/s) - ‘/tmp/sarcasm.json’ saved [5643545/5643545]\n",
            "\n",
            "Model: \"sequential_1\"\n",
            "_________________________________________________________________\n",
            "Layer (type)                 Output Shape              Param #   \n",
            "=================================================================\n",
            "embedding_1 (Embedding)      (None, 120, 16)           16000     \n",
            "_________________________________________________________________\n",
            "bidirectional_1 (Bidirection (None, 64)                12544     \n",
            "_________________________________________________________________\n",
            "dense_2 (Dense)              (None, 24)                1560      \n",
            "_________________________________________________________________\n",
            "dense_3 (Dense)              (None, 1)                 25        \n",
            "=================================================================\n",
            "Total params: 30,129\n",
            "Trainable params: 30,129\n",
            "Non-trainable params: 0\n",
            "_________________________________________________________________\n"
          ],
          "name": "stdout"
        },
        {
          "output_type": "error",
          "ename": "NameError",
          "evalue": "ignored",
          "traceback": [
            "\u001b[0;31m---------------------------------------------------------------------------\u001b[0m",
            "\u001b[0;31mNameError\u001b[0m                                 Traceback (most recent call last)",
            "\u001b[0;32m<ipython-input-22-6e7a4c38abfc>\u001b[0m in \u001b[0;36m<module>\u001b[0;34m()\u001b[0m\n\u001b[1;32m     52\u001b[0m \u001b[0;34m\u001b[0m\u001b[0m\n\u001b[1;32m     53\u001b[0m \u001b[0mnum_epochs\u001b[0m \u001b[0;34m=\u001b[0m \u001b[0;36m50\u001b[0m\u001b[0;34m\u001b[0m\u001b[0;34m\u001b[0m\u001b[0m\n\u001b[0;32m---> 54\u001b[0;31m \u001b[0mtraining_padded\u001b[0m \u001b[0;34m=\u001b[0m \u001b[0mnp\u001b[0m\u001b[0;34m.\u001b[0m\u001b[0marray\u001b[0m\u001b[0;34m(\u001b[0m\u001b[0mtraining_padded\u001b[0m\u001b[0;34m)\u001b[0m\u001b[0;34m\u001b[0m\u001b[0;34m\u001b[0m\u001b[0m\n\u001b[0m\u001b[1;32m     55\u001b[0m \u001b[0mtraining_labels\u001b[0m \u001b[0;34m=\u001b[0m \u001b[0mnp\u001b[0m\u001b[0;34m.\u001b[0m\u001b[0marray\u001b[0m\u001b[0;34m(\u001b[0m\u001b[0mtraining_labels\u001b[0m\u001b[0;34m)\u001b[0m\u001b[0;34m\u001b[0m\u001b[0;34m\u001b[0m\u001b[0m\n\u001b[1;32m     56\u001b[0m \u001b[0mtesting_padded\u001b[0m \u001b[0;34m=\u001b[0m \u001b[0mnp\u001b[0m\u001b[0;34m.\u001b[0m\u001b[0marray\u001b[0m\u001b[0;34m(\u001b[0m\u001b[0mtesting_padded\u001b[0m\u001b[0;34m)\u001b[0m\u001b[0;34m\u001b[0m\u001b[0;34m\u001b[0m\u001b[0m\n",
            "\u001b[0;31mNameError\u001b[0m: name 'np' is not defined"
          ]
        }
      ]
    },
    {
      "cell_type": "code",
      "metadata": {
        "id": "IHKeluArAGAn",
        "colab_type": "code",
        "colab": {
          "base_uri": "https://localhost:8080/",
          "height": 1000
        },
        "outputId": "d6ee559f-4c2d-403f-a50f-8f28ab616b2f"
      },
      "source": [
        "import numpy as np\n",
        "num_epochs = 50\n",
        "training_padded = np.array(training_padded)\n",
        "training_labels = np.array(training_labels)\n",
        "testing_padded = np.array(testing_padded)\n",
        "testing_labels = np.array(testing_labels)\n",
        "history = model.fit(training_padded, training_labels, epochs=num_epochs, validation_data=(testing_padded, testing_labels), verbose=1)\n",
        "\n"
      ],
      "execution_count": 23,
      "outputs": [
        {
          "output_type": "stream",
          "text": [
            "Train on 20000 samples, validate on 6709 samples\n",
            "Epoch 1/50\n",
            "20000/20000 [==============================] - 18s 879us/sample - loss: 0.4506 - accuracy: 0.7742 - val_loss: 0.4045 - val_accuracy: 0.8111\n",
            "Epoch 2/50\n",
            "20000/20000 [==============================] - 9s 474us/sample - loss: 0.3625 - accuracy: 0.8346 - val_loss: 0.3937 - val_accuracy: 0.8201\n",
            "Epoch 3/50\n",
            "20000/20000 [==============================] - 9s 473us/sample - loss: 0.3428 - accuracy: 0.8428 - val_loss: 0.3868 - val_accuracy: 0.8250\n",
            "Epoch 4/50\n",
            "20000/20000 [==============================] - 9s 470us/sample - loss: 0.3225 - accuracy: 0.8541 - val_loss: 0.3811 - val_accuracy: 0.8302\n",
            "Epoch 5/50\n",
            "20000/20000 [==============================] - 9s 466us/sample - loss: 0.3074 - accuracy: 0.8621 - val_loss: 0.3730 - val_accuracy: 0.8341\n",
            "Epoch 6/50\n",
            "20000/20000 [==============================] - 9s 464us/sample - loss: 0.2980 - accuracy: 0.8677 - val_loss: 0.3778 - val_accuracy: 0.8329\n",
            "Epoch 7/50\n",
            "20000/20000 [==============================] - 9s 460us/sample - loss: 0.2887 - accuracy: 0.8726 - val_loss: 0.3869 - val_accuracy: 0.8357\n",
            "Epoch 8/50\n",
            "20000/20000 [==============================] - 9s 466us/sample - loss: 0.2810 - accuracy: 0.8773 - val_loss: 0.3771 - val_accuracy: 0.8326\n",
            "Epoch 9/50\n",
            "20000/20000 [==============================] - 9s 468us/sample - loss: 0.2730 - accuracy: 0.8827 - val_loss: 0.3871 - val_accuracy: 0.8310\n",
            "Epoch 10/50\n",
            "20000/20000 [==============================] - 9s 463us/sample - loss: 0.2664 - accuracy: 0.8856 - val_loss: 0.3966 - val_accuracy: 0.8271\n",
            "Epoch 11/50\n",
            "20000/20000 [==============================] - 9s 464us/sample - loss: 0.2600 - accuracy: 0.8877 - val_loss: 0.3970 - val_accuracy: 0.8305\n",
            "Epoch 12/50\n",
            "20000/20000 [==============================] - 9s 460us/sample - loss: 0.2522 - accuracy: 0.8915 - val_loss: 0.3903 - val_accuracy: 0.8272\n",
            "Epoch 13/50\n",
            "20000/20000 [==============================] - 9s 459us/sample - loss: 0.2449 - accuracy: 0.8942 - val_loss: 0.4135 - val_accuracy: 0.8262\n",
            "Epoch 14/50\n",
            "20000/20000 [==============================] - 9s 464us/sample - loss: 0.2369 - accuracy: 0.8982 - val_loss: 0.4362 - val_accuracy: 0.8198\n",
            "Epoch 15/50\n",
            "20000/20000 [==============================] - 9s 463us/sample - loss: 0.2305 - accuracy: 0.9022 - val_loss: 0.4386 - val_accuracy: 0.8214\n",
            "Epoch 16/50\n",
            "20000/20000 [==============================] - 9s 461us/sample - loss: 0.2224 - accuracy: 0.9068 - val_loss: 0.4438 - val_accuracy: 0.8235\n",
            "Epoch 17/50\n",
            "20000/20000 [==============================] - 9s 460us/sample - loss: 0.2138 - accuracy: 0.9097 - val_loss: 0.4863 - val_accuracy: 0.8216\n",
            "Epoch 18/50\n",
            "20000/20000 [==============================] - 9s 460us/sample - loss: 0.2067 - accuracy: 0.9140 - val_loss: 0.4988 - val_accuracy: 0.8149\n",
            "Epoch 19/50\n",
            "20000/20000 [==============================] - 9s 461us/sample - loss: 0.1989 - accuracy: 0.9165 - val_loss: 0.5374 - val_accuracy: 0.8208\n",
            "Epoch 20/50\n",
            "20000/20000 [==============================] - 9s 465us/sample - loss: 0.1932 - accuracy: 0.9201 - val_loss: 0.5016 - val_accuracy: 0.8161\n",
            "Epoch 21/50\n",
            "20000/20000 [==============================] - 9s 461us/sample - loss: 0.1856 - accuracy: 0.9226 - val_loss: 0.5745 - val_accuracy: 0.8204\n",
            "Epoch 22/50\n",
            "20000/20000 [==============================] - 9s 460us/sample - loss: 0.1779 - accuracy: 0.9251 - val_loss: 0.6189 - val_accuracy: 0.8113\n",
            "Epoch 23/50\n",
            "20000/20000 [==============================] - 9s 464us/sample - loss: 0.1729 - accuracy: 0.9274 - val_loss: 0.6612 - val_accuracy: 0.8149\n",
            "Epoch 24/50\n",
            "20000/20000 [==============================] - 9s 461us/sample - loss: 0.1647 - accuracy: 0.9316 - val_loss: 0.6422 - val_accuracy: 0.8143\n",
            "Epoch 25/50\n",
            "20000/20000 [==============================] - 9s 461us/sample - loss: 0.1597 - accuracy: 0.9333 - val_loss: 0.6810 - val_accuracy: 0.8098\n",
            "Epoch 26/50\n",
            "20000/20000 [==============================] - 9s 460us/sample - loss: 0.1516 - accuracy: 0.9376 - val_loss: 0.7267 - val_accuracy: 0.8114\n",
            "Epoch 27/50\n",
            "20000/20000 [==============================] - 9s 459us/sample - loss: 0.1435 - accuracy: 0.9416 - val_loss: 0.7174 - val_accuracy: 0.8146\n",
            "Epoch 28/50\n",
            "20000/20000 [==============================] - 9s 461us/sample - loss: 0.1403 - accuracy: 0.9420 - val_loss: 0.7732 - val_accuracy: 0.8049\n",
            "Epoch 29/50\n",
            "20000/20000 [==============================] - 9s 461us/sample - loss: 0.1311 - accuracy: 0.9467 - val_loss: 0.8407 - val_accuracy: 0.8123\n",
            "Epoch 30/50\n",
            "20000/20000 [==============================] - 9s 467us/sample - loss: 0.1272 - accuracy: 0.9471 - val_loss: 0.8264 - val_accuracy: 0.8022\n",
            "Epoch 31/50\n",
            "20000/20000 [==============================] - 9s 471us/sample - loss: 0.1222 - accuracy: 0.9492 - val_loss: 0.8762 - val_accuracy: 0.8038\n",
            "Epoch 32/50\n",
            "20000/20000 [==============================] - 9s 465us/sample - loss: 0.1172 - accuracy: 0.9513 - val_loss: 0.9532 - val_accuracy: 0.8068\n",
            "Epoch 33/50\n",
            "20000/20000 [==============================] - 9s 460us/sample - loss: 0.1085 - accuracy: 0.9546 - val_loss: 1.0353 - val_accuracy: 0.8009\n",
            "Epoch 34/50\n",
            "20000/20000 [==============================] - 9s 459us/sample - loss: 0.1071 - accuracy: 0.9549 - val_loss: 1.0965 - val_accuracy: 0.8007\n",
            "Epoch 35/50\n",
            "20000/20000 [==============================] - 9s 461us/sample - loss: 0.1029 - accuracy: 0.9574 - val_loss: 1.0794 - val_accuracy: 0.7968\n",
            "Epoch 36/50\n",
            "20000/20000 [==============================] - 9s 457us/sample - loss: 0.0988 - accuracy: 0.9575 - val_loss: 1.1578 - val_accuracy: 0.7952\n",
            "Epoch 37/50\n",
            "20000/20000 [==============================] - 9s 460us/sample - loss: 0.0934 - accuracy: 0.9603 - val_loss: 1.1754 - val_accuracy: 0.7971\n",
            "Epoch 38/50\n",
            "20000/20000 [==============================] - 9s 464us/sample - loss: 0.0926 - accuracy: 0.9604 - val_loss: 1.2247 - val_accuracy: 0.8007\n",
            "Epoch 39/50\n",
            "20000/20000 [==============================] - 9s 463us/sample - loss: 0.0928 - accuracy: 0.9596 - val_loss: 1.2097 - val_accuracy: 0.7982\n",
            "Epoch 40/50\n",
            "20000/20000 [==============================] - 9s 465us/sample - loss: 0.0854 - accuracy: 0.9635 - val_loss: 1.3346 - val_accuracy: 0.7964\n",
            "Epoch 41/50\n",
            "20000/20000 [==============================] - 9s 460us/sample - loss: 0.0782 - accuracy: 0.9656 - val_loss: 1.3482 - val_accuracy: 0.7976\n",
            "Epoch 42/50\n",
            "20000/20000 [==============================] - 9s 468us/sample - loss: 0.0791 - accuracy: 0.9657 - val_loss: 1.4115 - val_accuracy: 0.7980\n",
            "Epoch 43/50\n",
            "20000/20000 [==============================] - 9s 463us/sample - loss: 0.0788 - accuracy: 0.9648 - val_loss: 1.3745 - val_accuracy: 0.8015\n",
            "Epoch 44/50\n",
            "20000/20000 [==============================] - 9s 461us/sample - loss: 0.0733 - accuracy: 0.9666 - val_loss: 1.5788 - val_accuracy: 0.7992\n",
            "Epoch 45/50\n",
            "20000/20000 [==============================] - 9s 462us/sample - loss: 0.0745 - accuracy: 0.9667 - val_loss: 1.5284 - val_accuracy: 0.7998\n",
            "Epoch 46/50\n",
            "20000/20000 [==============================] - 9s 465us/sample - loss: 0.0652 - accuracy: 0.9708 - val_loss: 1.5894 - val_accuracy: 0.7974\n",
            "Epoch 47/50\n",
            "20000/20000 [==============================] - 9s 464us/sample - loss: 0.0672 - accuracy: 0.9698 - val_loss: 1.6254 - val_accuracy: 0.7922\n",
            "Epoch 48/50\n",
            "20000/20000 [==============================] - 9s 464us/sample - loss: 0.0623 - accuracy: 0.9712 - val_loss: 1.7124 - val_accuracy: 0.7936\n",
            "Epoch 49/50\n",
            "20000/20000 [==============================] - 9s 469us/sample - loss: 0.0626 - accuracy: 0.9714 - val_loss: 1.8202 - val_accuracy: 0.7931\n",
            "Epoch 50/50\n",
            "20000/20000 [==============================] - 9s 469us/sample - loss: 0.0655 - accuracy: 0.9711 - val_loss: 1.7845 - val_accuracy: 0.7904\n"
          ],
          "name": "stdout"
        }
      ]
    },
    {
      "cell_type": "code",
      "metadata": {
        "id": "t8i8WY5mAe5M",
        "colab_type": "code",
        "colab": {
          "base_uri": "https://localhost:8080/",
          "height": 541
        },
        "outputId": "8aa72013-5ac8-427c-f021-b277b5721d57"
      },
      "source": [
        "import matplotlib.pyplot as plt\n",
        "\n",
        "\n",
        "def plot_graphs(history, string):\n",
        "  plt.plot(history.history[string])\n",
        "  plt.plot(history.history['val_'+string])\n",
        "  plt.xlabel(\"Epochs\")\n",
        "  plt.ylabel(string)\n",
        "  plt.legend([string, 'val_'+string])\n",
        "  plt.show()\n",
        "\n",
        "plot_graphs(history, 'accuracy')\n",
        "plot_graphs(history, 'loss')"
      ],
      "execution_count": 26,
      "outputs": [
        {
          "output_type": "display_data",
          "data": {
            "image/png": "[encoded data removed]",
            "text/plain": [
              "<Figure size 432x288 with 1 Axes>"
            ]
          },
          "metadata": {
            "tags": []
          }
        },
        {
          "output_type": "display_data",
          "data": {
            "image/png": "[encoded data removed]",
            "text/plain": [
              "<Figure size 432x288 with 1 Axes>"
            ]
          },
          "metadata": {
            "tags": []
          }
        }
      ]
    },
    {
      "cell_type": "markdown",
      "metadata": {
        "id": "QbmLY4bQC2UE",
        "colab_type": "text"
      },
      "source": [
        "Signs of overfitting in LSTM"
      ]
    },
    {
      "cell_type": "code",
      "metadata": {
        "id": "4QvrEgB8AsUr",
        "colab_type": "code",
        "colab": {}
      },
      "source": [
        "model.save(\"test.h5\")"
      ],
      "execution_count": 0,
      "outputs": []
    },
    {
      "cell_type": "markdown",
      "metadata": {
        "id": "nEsf4UiGC_1b",
        "colab_type": "text"
      },
      "source": [
        "## CNN"
      ]
    },
    {
      "cell_type": "code",
      "metadata": {
        "id": "JnCW8cb7C_km",
        "colab_type": "code",
        "colab": {
          "base_uri": "https://localhost:8080/",
          "height": 1000
        },
        "outputId": "c85ca8b0-ab29-4093-e2e1-989b333f2bf4"
      },
      "source": [
        "\n",
        "model = tf.keras.Sequential([\n",
        "    tf.keras.layers.Embedding(vocab_size, embedding_dim, input_length=max_length),\n",
        "    tf.keras.layers.Conv1D(128, 5, activation='relu'),\n",
        "    tf.keras.layers.GlobalMaxPooling1D(),\n",
        "    tf.keras.layers.Dense(24, activation='relu'),\n",
        "    tf.keras.layers.Dense(1, activation='sigmoid')\n",
        "])\n",
        "model.compile(loss='binary_crossentropy',optimizer='adam',metrics=['accuracy'])\n",
        "model.summary()\n",
        "\n",
        "num_epochs = 50\n",
        "history = model.fit(training_padded, training_labels, epochs=num_epochs, validation_data=(testing_padded, testing_labels), verbose=1)\n"
      ],
      "execution_count": 28,
      "outputs": [
        {
          "output_type": "stream",
          "text": [
            "Model: \"sequential_2\"\n",
            "_________________________________________________________________\n",
            "Layer (type)                 Output Shape              Param #   \n",
            "=================================================================\n",
            "embedding_2 (Embedding)      (None, 120, 16)           16000     \n",
            "_________________________________________________________________\n",
            "conv1d (Conv1D)              (None, 116, 128)          10368     \n",
            "_________________________________________________________________\n",
            "global_max_pooling1d (Global (None, 128)               0         \n",
            "_________________________________________________________________\n",
            "dense_4 (Dense)              (None, 24)                3096      \n",
            "_________________________________________________________________\n",
            "dense_5 (Dense)              (None, 1)                 25        \n",
            "=================================================================\n",
            "Total params: 29,489\n",
            "Trainable params: 29,489\n",
            "Non-trainable params: 0\n",
            "_________________________________________________________________\n",
            "Train on 20000 samples, validate on 6709 samples\n",
            "Epoch 1/50\n",
            "20000/20000 [==============================] - 4s 186us/sample - loss: 0.4780 - accuracy: 0.7538 - val_loss: 0.4117 - val_accuracy: 0.8140\n",
            "Epoch 2/50\n",
            "20000/20000 [==============================] - 3s 143us/sample - loss: 0.3578 - accuracy: 0.8383 - val_loss: 0.3901 - val_accuracy: 0.8216\n",
            "Epoch 3/50\n",
            "20000/20000 [==============================] - 3s 146us/sample - loss: 0.3196 - accuracy: 0.8599 - val_loss: 0.3965 - val_accuracy: 0.8226\n",
            "Epoch 4/50\n",
            "20000/20000 [==============================] - 3s 149us/sample - loss: 0.2879 - accuracy: 0.8758 - val_loss: 0.4043 - val_accuracy: 0.8208\n",
            "Epoch 5/50\n",
            "20000/20000 [==============================] - 3s 149us/sample - loss: 0.2590 - accuracy: 0.8895 - val_loss: 0.4219 - val_accuracy: 0.8165\n",
            "Epoch 6/50\n",
            "20000/20000 [==============================] - 3s 145us/sample - loss: 0.2297 - accuracy: 0.9054 - val_loss: 0.4513 - val_accuracy: 0.8159\n",
            "Epoch 7/50\n",
            "20000/20000 [==============================] - 3s 145us/sample - loss: 0.2019 - accuracy: 0.9188 - val_loss: 0.4949 - val_accuracy: 0.8095\n",
            "Epoch 8/50\n",
            "20000/20000 [==============================] - 3s 143us/sample - loss: 0.1757 - accuracy: 0.9319 - val_loss: 0.5482 - val_accuracy: 0.8050\n",
            "Epoch 9/50\n",
            "20000/20000 [==============================] - 3s 144us/sample - loss: 0.1492 - accuracy: 0.9439 - val_loss: 0.5797 - val_accuracy: 0.8022\n",
            "Epoch 10/50\n",
            "20000/20000 [==============================] - 3s 138us/sample - loss: 0.1259 - accuracy: 0.9529 - val_loss: 0.6757 - val_accuracy: 0.7933\n",
            "Epoch 11/50\n",
            "20000/20000 [==============================] - 3s 140us/sample - loss: 0.1075 - accuracy: 0.9609 - val_loss: 0.7117 - val_accuracy: 0.7955\n",
            "Epoch 12/50\n",
            "20000/20000 [==============================] - 3s 139us/sample - loss: 0.0880 - accuracy: 0.9689 - val_loss: 0.8086 - val_accuracy: 0.7948\n",
            "Epoch 13/50\n",
            "20000/20000 [==============================] - 3s 142us/sample - loss: 0.0748 - accuracy: 0.9730 - val_loss: 0.8927 - val_accuracy: 0.7912\n",
            "Epoch 14/50\n",
            "20000/20000 [==============================] - 3s 140us/sample - loss: 0.0627 - accuracy: 0.9778 - val_loss: 0.9701 - val_accuracy: 0.7928\n",
            "Epoch 15/50\n",
            "20000/20000 [==============================] - 3s 138us/sample - loss: 0.0567 - accuracy: 0.9785 - val_loss: 1.0719 - val_accuracy: 0.7915\n",
            "Epoch 16/50\n",
            "20000/20000 [==============================] - 3s 142us/sample - loss: 0.0510 - accuracy: 0.9804 - val_loss: 1.1088 - val_accuracy: 0.7863\n",
            "Epoch 17/50\n",
            "20000/20000 [==============================] - 3s 141us/sample - loss: 0.0460 - accuracy: 0.9832 - val_loss: 1.2008 - val_accuracy: 0.7943\n",
            "Epoch 18/50\n",
            "20000/20000 [==============================] - 3s 140us/sample - loss: 0.0410 - accuracy: 0.9845 - val_loss: 1.2829 - val_accuracy: 0.7886\n",
            "Epoch 19/50\n",
            "20000/20000 [==============================] - 3s 142us/sample - loss: 0.0374 - accuracy: 0.9855 - val_loss: 1.3448 - val_accuracy: 0.7801\n",
            "Epoch 20/50\n",
            "20000/20000 [==============================] - 3s 140us/sample - loss: 0.0367 - accuracy: 0.9857 - val_loss: 1.5096 - val_accuracy: 0.7907\n",
            "Epoch 21/50\n",
            "20000/20000 [==============================] - 3s 140us/sample - loss: 0.0390 - accuracy: 0.9852 - val_loss: 1.5632 - val_accuracy: 0.7790\n",
            "Epoch 22/50\n",
            "20000/20000 [==============================] - 3s 140us/sample - loss: 0.0314 - accuracy: 0.9873 - val_loss: 1.6207 - val_accuracy: 0.7889\n",
            "Epoch 23/50\n",
            "20000/20000 [==============================] - 3s 140us/sample - loss: 0.0321 - accuracy: 0.9875 - val_loss: 1.6266 - val_accuracy: 0.7927\n",
            "Epoch 24/50\n",
            "20000/20000 [==============================] - 3s 141us/sample - loss: 0.0330 - accuracy: 0.9866 - val_loss: 1.6974 - val_accuracy: 0.7885\n",
            "Epoch 25/50\n",
            "20000/20000 [==============================] - 3s 138us/sample - loss: 0.0301 - accuracy: 0.9881 - val_loss: 1.7636 - val_accuracy: 0.7755\n",
            "Epoch 26/50\n",
            "20000/20000 [==============================] - 3s 138us/sample - loss: 0.0253 - accuracy: 0.9892 - val_loss: 1.7399 - val_accuracy: 0.7874\n",
            "Epoch 27/50\n",
            "20000/20000 [==============================] - 3s 141us/sample - loss: 0.0226 - accuracy: 0.9910 - val_loss: 1.8374 - val_accuracy: 0.7870\n",
            "Epoch 28/50\n",
            "20000/20000 [==============================] - 3s 140us/sample - loss: 0.0289 - accuracy: 0.9880 - val_loss: 1.8508 - val_accuracy: 0.7873\n",
            "Epoch 29/50\n",
            "20000/20000 [==============================] - 3s 140us/sample - loss: 0.0365 - accuracy: 0.9851 - val_loss: 1.8613 - val_accuracy: 0.7854\n",
            "Epoch 30/50\n",
            "20000/20000 [==============================] - 3s 139us/sample - loss: 0.0321 - accuracy: 0.9874 - val_loss: 1.9151 - val_accuracy: 0.7819\n",
            "Epoch 31/50\n",
            "20000/20000 [==============================] - 3s 141us/sample - loss: 0.0224 - accuracy: 0.9904 - val_loss: 1.9882 - val_accuracy: 0.7837\n",
            "Epoch 32/50\n",
            "20000/20000 [==============================] - 3s 143us/sample - loss: 0.0192 - accuracy: 0.9913 - val_loss: 2.1149 - val_accuracy: 0.7857\n",
            "Epoch 33/50\n",
            "20000/20000 [==============================] - 3s 141us/sample - loss: 0.0203 - accuracy: 0.9915 - val_loss: 2.0915 - val_accuracy: 0.7821\n",
            "Epoch 34/50\n",
            "20000/20000 [==============================] - 3s 143us/sample - loss: 0.0214 - accuracy: 0.9911 - val_loss: 2.2135 - val_accuracy: 0.7895\n",
            "Epoch 35/50\n",
            "20000/20000 [==============================] - 3s 140us/sample - loss: 0.0271 - accuracy: 0.9883 - val_loss: 2.1487 - val_accuracy: 0.7843\n",
            "Epoch 36/50\n",
            "20000/20000 [==============================] - 3s 136us/sample - loss: 0.0288 - accuracy: 0.9876 - val_loss: 2.1637 - val_accuracy: 0.7864\n",
            "Epoch 37/50\n",
            "20000/20000 [==============================] - 3s 144us/sample - loss: 0.0234 - accuracy: 0.9899 - val_loss: 2.3262 - val_accuracy: 0.7815\n",
            "Epoch 38/50\n",
            "20000/20000 [==============================] - 3s 139us/sample - loss: 0.0208 - accuracy: 0.9912 - val_loss: 2.1871 - val_accuracy: 0.7845\n",
            "Epoch 39/50\n",
            "20000/20000 [==============================] - 3s 142us/sample - loss: 0.0184 - accuracy: 0.9922 - val_loss: 2.3661 - val_accuracy: 0.7885\n",
            "Epoch 40/50\n",
            "20000/20000 [==============================] - 3s 140us/sample - loss: 0.0209 - accuracy: 0.9903 - val_loss: 2.3587 - val_accuracy: 0.7849\n",
            "Epoch 41/50\n",
            "20000/20000 [==============================] - 3s 142us/sample - loss: 0.0235 - accuracy: 0.9905 - val_loss: 2.3982 - val_accuracy: 0.7858\n",
            "Epoch 42/50\n",
            "20000/20000 [==============================] - 3s 141us/sample - loss: 0.0226 - accuracy: 0.9905 - val_loss: 2.4718 - val_accuracy: 0.7925\n",
            "Epoch 43/50\n",
            "20000/20000 [==============================] - 3s 142us/sample - loss: 0.0275 - accuracy: 0.9886 - val_loss: 2.3447 - val_accuracy: 0.7837\n",
            "Epoch 44/50\n",
            "20000/20000 [==============================] - 3s 139us/sample - loss: 0.0196 - accuracy: 0.9915 - val_loss: 2.3304 - val_accuracy: 0.7852\n",
            "Epoch 45/50\n",
            "20000/20000 [==============================] - 3s 144us/sample - loss: 0.0148 - accuracy: 0.9930 - val_loss: 2.4960 - val_accuracy: 0.7837\n",
            "Epoch 46/50\n",
            "20000/20000 [==============================] - 3s 142us/sample - loss: 0.0223 - accuracy: 0.9911 - val_loss: 2.3782 - val_accuracy: 0.7825\n",
            "Epoch 47/50\n",
            "20000/20000 [==============================] - 3s 139us/sample - loss: 0.0249 - accuracy: 0.9890 - val_loss: 2.4749 - val_accuracy: 0.7784\n",
            "Epoch 48/50\n",
            "20000/20000 [==============================] - 3s 139us/sample - loss: 0.0228 - accuracy: 0.9902 - val_loss: 2.4961 - val_accuracy: 0.7861\n",
            "Epoch 49/50\n",
            "20000/20000 [==============================] - 3s 138us/sample - loss: 0.0173 - accuracy: 0.9918 - val_loss: 2.5974 - val_accuracy: 0.7831\n",
            "Epoch 50/50\n",
            "20000/20000 [==============================] - 3s 140us/sample - loss: 0.0162 - accuracy: 0.9930 - val_loss: 2.5437 - val_accuracy: 0.7836\n"
          ],
          "name": "stdout"
        }
      ]
    },
    {
      "cell_type": "code",
      "metadata": {
        "id": "B5QAVzG5Ck57",
        "colab_type": "code",
        "colab": {
          "base_uri": "https://localhost:8080/",
          "height": 541
        },
        "outputId": "a8ae28e4-2dd9-4e98-a524-96bcebffde4d"
      },
      "source": [
        "\n",
        "plot_graphs(history, 'accuracy')\n",
        "plot_graphs(history, 'loss')"
      ],
      "execution_count": 29,
      "outputs": [
        {
          "output_type": "display_data",
          "data": {
            "image/png": "[encoded data removed]",
            "text/plain": [
              "<Figure size 432x288 with 1 Axes>"
            ]
          },
          "metadata": {
            "tags": []
          }
        },
        {
          "output_type": "display_data",
          "data": {
            "image/png": "[encoded data removed]",
            "text/plain": [
              "<Figure size 432x288 with 1 Axes>"
            ]
          },
          "metadata": {
            "tags": []
          }
        }
      ]
    }
  ]
}